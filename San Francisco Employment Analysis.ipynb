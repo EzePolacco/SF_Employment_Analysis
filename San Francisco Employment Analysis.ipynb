{
 "cells": [
  {
   "cell_type": "code",
   "execution_count": null,
   "id": "799e61a7",
   "metadata": {},
   "outputs": [],
   "source": []
  },
  {
   "cell_type": "code",
   "execution_count": null,
   "id": "7c77b492",
   "metadata": {},
   "outputs": [],
   "source": []
  },
  {
   "cell_type": "code",
   "execution_count": 1086,
   "id": "57dd5df5",
   "metadata": {},
   "outputs": [],
   "source": [
    "# Import libraries\n",
    "\n",
    "import pandas as pd\n",
    "import numpy as np\n",
    "import matplotlib.pyplot as plt\n",
    "import seaborn as sns"
   ]
  },
  {
   "cell_type": "code",
   "execution_count": 762,
   "id": "8b421718",
   "metadata": {},
   "outputs": [],
   "source": [
    "# \n",
    "mainpath = \"/Users/ezequielpolacco/Desktop/Data Science/Kaggle/San Francisco Data Employment/\"\n",
    "filename = \"Total.csv\"\n",
    "fullpath = mainpath + \"/\" + filename"
   ]
  },
  {
   "cell_type": "code",
   "execution_count": 763,
   "id": "0276e531",
   "metadata": {},
   "outputs": [
    {
     "name": "stderr",
     "output_type": "stream",
     "text": [
      "/opt/anaconda3/lib/python3.8/site-packages/IPython/core/interactiveshell.py:3165: DtypeWarning: Columns (2,3,4,5) have mixed types.Specify dtype option on import or set low_memory=False.\n",
      "  has_raised = await self.run_ast_nodes(code_ast.body, cell_name,\n"
     ]
    }
   ],
   "source": [
    "sf_data = pd.read_csv(fullpath)"
   ]
  },
  {
   "cell_type": "code",
   "execution_count": 764,
   "id": "21a7ea8a",
   "metadata": {},
   "outputs": [
    {
     "data": {
      "text/html": [
       "<div>\n",
       "<style scoped>\n",
       "    .dataframe tbody tr th:only-of-type {\n",
       "        vertical-align: middle;\n",
       "    }\n",
       "\n",
       "    .dataframe tbody tr th {\n",
       "        vertical-align: top;\n",
       "    }\n",
       "\n",
       "    .dataframe thead th {\n",
       "        text-align: right;\n",
       "    }\n",
       "</style>\n",
       "<table border=\"1\" class=\"dataframe\">\n",
       "  <thead>\n",
       "    <tr style=\"text-align: right;\">\n",
       "      <th></th>\n",
       "      <th>EmployeeName</th>\n",
       "      <th>JobTitle</th>\n",
       "      <th>BasePay</th>\n",
       "      <th>OvertimePay</th>\n",
       "      <th>OtherPay</th>\n",
       "      <th>Benefits</th>\n",
       "      <th>TotalPay</th>\n",
       "      <th>TotalPayBenefits</th>\n",
       "      <th>Year</th>\n",
       "    </tr>\n",
       "  </thead>\n",
       "  <tbody>\n",
       "    <tr>\n",
       "      <th>0</th>\n",
       "      <td>NATHANIEL FORD</td>\n",
       "      <td>GENERAL MANAGER-METROPOLITAN TRANSIT AUTHORITY</td>\n",
       "      <td>167411.18</td>\n",
       "      <td>0.0</td>\n",
       "      <td>400184.25</td>\n",
       "      <td>Not Provided</td>\n",
       "      <td>567595.43</td>\n",
       "      <td>567595.43</td>\n",
       "      <td>2011</td>\n",
       "    </tr>\n",
       "    <tr>\n",
       "      <th>1</th>\n",
       "      <td>GARY JIMENEZ</td>\n",
       "      <td>CAPTAIN III (POLICE DEPARTMENT)</td>\n",
       "      <td>155966.02</td>\n",
       "      <td>245131.88</td>\n",
       "      <td>137811.38</td>\n",
       "      <td>Not Provided</td>\n",
       "      <td>538909.28</td>\n",
       "      <td>538909.28</td>\n",
       "      <td>2011</td>\n",
       "    </tr>\n",
       "    <tr>\n",
       "      <th>2</th>\n",
       "      <td>ALBERT PARDINI</td>\n",
       "      <td>CAPTAIN III (POLICE DEPARTMENT)</td>\n",
       "      <td>212739.13</td>\n",
       "      <td>106088.18</td>\n",
       "      <td>16452.6</td>\n",
       "      <td>Not Provided</td>\n",
       "      <td>335279.91</td>\n",
       "      <td>335279.91</td>\n",
       "      <td>2011</td>\n",
       "    </tr>\n",
       "    <tr>\n",
       "      <th>3</th>\n",
       "      <td>CHRISTOPHER CHONG</td>\n",
       "      <td>WIRE ROPE CABLE MAINTENANCE MECHANIC</td>\n",
       "      <td>77916.0</td>\n",
       "      <td>56120.71</td>\n",
       "      <td>198306.9</td>\n",
       "      <td>Not Provided</td>\n",
       "      <td>332343.61</td>\n",
       "      <td>332343.61</td>\n",
       "      <td>2011</td>\n",
       "    </tr>\n",
       "    <tr>\n",
       "      <th>4</th>\n",
       "      <td>PATRICK GARDNER</td>\n",
       "      <td>DEPUTY CHIEF OF DEPARTMENT,(FIRE DEPARTMENT)</td>\n",
       "      <td>134401.6</td>\n",
       "      <td>9737.0</td>\n",
       "      <td>182234.59</td>\n",
       "      <td>Not Provided</td>\n",
       "      <td>326373.19</td>\n",
       "      <td>326373.19</td>\n",
       "      <td>2011</td>\n",
       "    </tr>\n",
       "  </tbody>\n",
       "</table>\n",
       "</div>"
      ],
      "text/plain": [
       "        EmployeeName                                        JobTitle  \\\n",
       "0     NATHANIEL FORD  GENERAL MANAGER-METROPOLITAN TRANSIT AUTHORITY   \n",
       "1       GARY JIMENEZ                 CAPTAIN III (POLICE DEPARTMENT)   \n",
       "2     ALBERT PARDINI                 CAPTAIN III (POLICE DEPARTMENT)   \n",
       "3  CHRISTOPHER CHONG            WIRE ROPE CABLE MAINTENANCE MECHANIC   \n",
       "4    PATRICK GARDNER    DEPUTY CHIEF OF DEPARTMENT,(FIRE DEPARTMENT)   \n",
       "\n",
       "     BasePay OvertimePay   OtherPay      Benefits   TotalPay  \\\n",
       "0  167411.18         0.0  400184.25  Not Provided  567595.43   \n",
       "1  155966.02   245131.88  137811.38  Not Provided  538909.28   \n",
       "2  212739.13   106088.18    16452.6  Not Provided  335279.91   \n",
       "3    77916.0    56120.71   198306.9  Not Provided  332343.61   \n",
       "4   134401.6      9737.0  182234.59  Not Provided  326373.19   \n",
       "\n",
       "   TotalPayBenefits  Year  \n",
       "0         567595.43  2011  \n",
       "1         538909.28  2011  \n",
       "2         335279.91  2011  \n",
       "3         332343.61  2011  \n",
       "4         326373.19  2011  "
      ]
     },
     "execution_count": 764,
     "metadata": {},
     "output_type": "execute_result"
    }
   ],
   "source": [
    "sf_data.head()"
   ]
  },
  {
   "cell_type": "code",
   "execution_count": 765,
   "id": "19289454",
   "metadata": {},
   "outputs": [
    {
     "data": {
      "text/plain": [
       "EmployeeName         object\n",
       "JobTitle             object\n",
       "BasePay              object\n",
       "OvertimePay          object\n",
       "OtherPay             object\n",
       "Benefits             object\n",
       "TotalPay            float64\n",
       "TotalPayBenefits    float64\n",
       "Year                  int64\n",
       "dtype: object"
      ]
     },
     "execution_count": 765,
     "metadata": {},
     "output_type": "execute_result"
    }
   ],
   "source": [
    "# Check data types of each column\n",
    "sf_data.dtypes"
   ]
  },
  {
   "cell_type": "code",
   "execution_count": 766,
   "id": "b6651ee0",
   "metadata": {},
   "outputs": [
    {
     "name": "stdout",
     "output_type": "stream",
     "text": [
      "<class 'pandas.core.frame.DataFrame'>\n",
      "RangeIndex: 312882 entries, 0 to 312881\n",
      "Data columns (total 9 columns):\n",
      " #   Column            Non-Null Count   Dtype  \n",
      "---  ------            --------------   -----  \n",
      " 0   EmployeeName      312882 non-null  object \n",
      " 1   JobTitle          312882 non-null  object \n",
      " 2   BasePay           312882 non-null  object \n",
      " 3   OvertimePay       312882 non-null  object \n",
      " 4   OtherPay          312882 non-null  object \n",
      " 5   Benefits          312882 non-null  object \n",
      " 6   TotalPay          312882 non-null  float64\n",
      " 7   TotalPayBenefits  312882 non-null  float64\n",
      " 8   Year              312882 non-null  int64  \n",
      "dtypes: float64(2), int64(1), object(6)\n",
      "memory usage: 21.5+ MB\n"
     ]
    }
   ],
   "source": [
    "# Check dataset info\n",
    "sf_data.info()"
   ]
  },
  {
   "cell_type": "code",
   "execution_count": 767,
   "id": "be4174a8",
   "metadata": {},
   "outputs": [
    {
     "data": {
      "text/plain": [
       "(312882, 9)"
      ]
     },
     "execution_count": 767,
     "metadata": {},
     "output_type": "execute_result"
    }
   ],
   "source": [
    "# Check the shape of dataframe\n",
    "sf_data.shape"
   ]
  },
  {
   "cell_type": "code",
   "execution_count": 768,
   "id": "97b62436",
   "metadata": {},
   "outputs": [],
   "source": [
    "# The columns \"BasePay\", \"OvertimePay\", OtherPay\", \"Benefits\" are in object format. \n",
    "# To analyze that we must proceed to convert it in a float type.\n",
    "pay_list = ['BasePay', 'OvertimePay', 'OtherPay', 'Benefits']\n",
    "for item in pay_list:\n",
    "    sf_data[item] = pd.to_numeric(sf_data[item], errors = \"coerce\") #If ‘coerce’, then invalid parsing will be set as NaN."
   ]
  },
  {
   "cell_type": "code",
   "execution_count": 769,
   "id": "185e3a69",
   "metadata": {},
   "outputs": [
    {
     "name": "stdout",
     "output_type": "stream",
     "text": [
      "<class 'pandas.core.frame.DataFrame'>\n",
      "RangeIndex: 312882 entries, 0 to 312881\n",
      "Data columns (total 9 columns):\n",
      " #   Column            Non-Null Count   Dtype  \n",
      "---  ------            --------------   -----  \n",
      " 0   EmployeeName      312882 non-null  object \n",
      " 1   JobTitle          312882 non-null  object \n",
      " 2   BasePay           312276 non-null  float64\n",
      " 3   OvertimePay       312881 non-null  float64\n",
      " 4   OtherPay          312881 non-null  float64\n",
      " 5   Benefits          276722 non-null  float64\n",
      " 6   TotalPay          312882 non-null  float64\n",
      " 7   TotalPayBenefits  312882 non-null  float64\n",
      " 8   Year              312882 non-null  int64  \n",
      "dtypes: float64(6), int64(1), object(2)\n",
      "memory usage: 21.5+ MB\n"
     ]
    }
   ],
   "source": [
    "sf_data.info()"
   ]
  },
  {
   "cell_type": "code",
   "execution_count": 770,
   "id": "0ab74c23",
   "metadata": {},
   "outputs": [
    {
     "data": {
      "text/plain": [
       "False"
      ]
     },
     "execution_count": 770,
     "metadata": {},
     "output_type": "execute_result"
    }
   ],
   "source": [
    "# Check if there are null data\n",
    "sf_data.empty"
   ]
  },
  {
   "cell_type": "code",
   "execution_count": 771,
   "id": "5c68f146",
   "metadata": {},
   "outputs": [
    {
     "data": {
      "text/plain": [
       "EmployeeName            0\n",
       "JobTitle                0\n",
       "BasePay               606\n",
       "OvertimePay             1\n",
       "OtherPay                1\n",
       "Benefits            36160\n",
       "TotalPay                0\n",
       "TotalPayBenefits        0\n",
       "Year                    0\n",
       "dtype: int64"
      ]
     },
     "execution_count": 771,
     "metadata": {},
     "output_type": "execute_result"
    }
   ],
   "source": [
    "sf_data.isnull().sum()"
   ]
  },
  {
   "cell_type": "code",
   "execution_count": 772,
   "id": "1e7b97a6",
   "metadata": {},
   "outputs": [
    {
     "data": {
      "text/html": [
       "<div>\n",
       "<style scoped>\n",
       "    .dataframe tbody tr th:only-of-type {\n",
       "        vertical-align: middle;\n",
       "    }\n",
       "\n",
       "    .dataframe tbody tr th {\n",
       "        vertical-align: top;\n",
       "    }\n",
       "\n",
       "    .dataframe thead th {\n",
       "        text-align: right;\n",
       "    }\n",
       "</style>\n",
       "<table border=\"1\" class=\"dataframe\">\n",
       "  <thead>\n",
       "    <tr style=\"text-align: right;\">\n",
       "      <th></th>\n",
       "      <th>EmployeeName</th>\n",
       "      <th>JobTitle</th>\n",
       "      <th>BasePay</th>\n",
       "      <th>OvertimePay</th>\n",
       "      <th>OtherPay</th>\n",
       "      <th>Benefits</th>\n",
       "      <th>TotalPay</th>\n",
       "      <th>TotalPayBenefits</th>\n",
       "      <th>Year</th>\n",
       "    </tr>\n",
       "  </thead>\n",
       "  <tbody>\n",
       "    <tr>\n",
       "      <th>312877</th>\n",
       "      <td>Daniel W Plautz</td>\n",
       "      <td>Public Service Trainee</td>\n",
       "      <td>0.0</td>\n",
       "      <td>0.0</td>\n",
       "      <td>0.0</td>\n",
       "      <td>0.0</td>\n",
       "      <td>0.0</td>\n",
       "      <td>0.0</td>\n",
       "      <td>2018</td>\n",
       "    </tr>\n",
       "    <tr>\n",
       "      <th>312878</th>\n",
       "      <td>David J Thompson</td>\n",
       "      <td>Deputy Sheriff</td>\n",
       "      <td>0.0</td>\n",
       "      <td>0.0</td>\n",
       "      <td>0.0</td>\n",
       "      <td>0.0</td>\n",
       "      <td>0.0</td>\n",
       "      <td>0.0</td>\n",
       "      <td>2018</td>\n",
       "    </tr>\n",
       "    <tr>\n",
       "      <th>312879</th>\n",
       "      <td>Keiko Weng Yee Lau</td>\n",
       "      <td>Public Service Trainee</td>\n",
       "      <td>0.0</td>\n",
       "      <td>0.0</td>\n",
       "      <td>0.0</td>\n",
       "      <td>0.0</td>\n",
       "      <td>0.0</td>\n",
       "      <td>0.0</td>\n",
       "      <td>2018</td>\n",
       "    </tr>\n",
       "    <tr>\n",
       "      <th>312880</th>\n",
       "      <td>David Wong</td>\n",
       "      <td>Deputy Sheriff</td>\n",
       "      <td>0.0</td>\n",
       "      <td>0.0</td>\n",
       "      <td>0.0</td>\n",
       "      <td>0.0</td>\n",
       "      <td>0.0</td>\n",
       "      <td>0.0</td>\n",
       "      <td>2018</td>\n",
       "    </tr>\n",
       "    <tr>\n",
       "      <th>312881</th>\n",
       "      <td>Debora E Howard</td>\n",
       "      <td>Recreation Leader</td>\n",
       "      <td>0.0</td>\n",
       "      <td>0.0</td>\n",
       "      <td>0.0</td>\n",
       "      <td>0.0</td>\n",
       "      <td>0.0</td>\n",
       "      <td>0.0</td>\n",
       "      <td>2018</td>\n",
       "    </tr>\n",
       "  </tbody>\n",
       "</table>\n",
       "</div>"
      ],
      "text/plain": [
       "              EmployeeName                JobTitle  BasePay  OvertimePay  \\\n",
       "312877     Daniel W Plautz  Public Service Trainee      0.0          0.0   \n",
       "312878    David J Thompson          Deputy Sheriff      0.0          0.0   \n",
       "312879  Keiko Weng Yee Lau  Public Service Trainee      0.0          0.0   \n",
       "312880          David Wong          Deputy Sheriff      0.0          0.0   \n",
       "312881     Debora E Howard       Recreation Leader      0.0          0.0   \n",
       "\n",
       "        OtherPay  Benefits  TotalPay  TotalPayBenefits  Year  \n",
       "312877       0.0       0.0       0.0               0.0  2018  \n",
       "312878       0.0       0.0       0.0               0.0  2018  \n",
       "312879       0.0       0.0       0.0               0.0  2018  \n",
       "312880       0.0       0.0       0.0               0.0  2018  \n",
       "312881       0.0       0.0       0.0               0.0  2018  "
      ]
     },
     "execution_count": 772,
     "metadata": {},
     "output_type": "execute_result"
    }
   ],
   "source": [
    "sf_data.tail()"
   ]
  },
  {
   "cell_type": "code",
   "execution_count": 773,
   "id": "803d19e5",
   "metadata": {},
   "outputs": [],
   "source": [
    "# For some reason, the x files for year 2018 have 0 values. \n",
    "# So, the zero values are not useful for our analysis\n"
   ]
  },
  {
   "cell_type": "code",
   "execution_count": 774,
   "id": "830d5117",
   "metadata": {},
   "outputs": [
    {
     "data": {
      "text/plain": [
       "False    309636\n",
       "True       3246\n",
       "Name: BasePay, dtype: int64"
      ]
     },
     "execution_count": 774,
     "metadata": {},
     "output_type": "execute_result"
    }
   ],
   "source": [
    "zero_basepay = sf_data[\"BasePay\"]==0\n",
    "zero_basepay.value_counts()"
   ]
  },
  {
   "cell_type": "code",
   "execution_count": 775,
   "id": "cdf4e294",
   "metadata": {},
   "outputs": [
    {
     "data": {
      "text/html": [
       "<div>\n",
       "<style scoped>\n",
       "    .dataframe tbody tr th:only-of-type {\n",
       "        vertical-align: middle;\n",
       "    }\n",
       "\n",
       "    .dataframe tbody tr th {\n",
       "        vertical-align: top;\n",
       "    }\n",
       "\n",
       "    .dataframe thead th {\n",
       "        text-align: right;\n",
       "    }\n",
       "</style>\n",
       "<table border=\"1\" class=\"dataframe\">\n",
       "  <thead>\n",
       "    <tr style=\"text-align: right;\">\n",
       "      <th></th>\n",
       "      <th>EmployeeName</th>\n",
       "      <th>JobTitle</th>\n",
       "      <th>BasePay</th>\n",
       "      <th>OvertimePay</th>\n",
       "      <th>OtherPay</th>\n",
       "      <th>Benefits</th>\n",
       "      <th>TotalPay</th>\n",
       "      <th>TotalPayBenefits</th>\n",
       "      <th>Year</th>\n",
       "    </tr>\n",
       "  </thead>\n",
       "  <tbody>\n",
       "    <tr>\n",
       "      <th>0</th>\n",
       "      <td>NATHANIEL FORD</td>\n",
       "      <td>GENERAL MANAGER-METROPOLITAN TRANSIT AUTHORITY</td>\n",
       "      <td>167411.18</td>\n",
       "      <td>0.00</td>\n",
       "      <td>400184.25</td>\n",
       "      <td>0.0</td>\n",
       "      <td>567595.43</td>\n",
       "      <td>567595.43</td>\n",
       "      <td>2011</td>\n",
       "    </tr>\n",
       "    <tr>\n",
       "      <th>1</th>\n",
       "      <td>GARY JIMENEZ</td>\n",
       "      <td>CAPTAIN III (POLICE DEPARTMENT)</td>\n",
       "      <td>155966.02</td>\n",
       "      <td>245131.88</td>\n",
       "      <td>137811.38</td>\n",
       "      <td>0.0</td>\n",
       "      <td>538909.28</td>\n",
       "      <td>538909.28</td>\n",
       "      <td>2011</td>\n",
       "    </tr>\n",
       "    <tr>\n",
       "      <th>2</th>\n",
       "      <td>ALBERT PARDINI</td>\n",
       "      <td>CAPTAIN III (POLICE DEPARTMENT)</td>\n",
       "      <td>212739.13</td>\n",
       "      <td>106088.18</td>\n",
       "      <td>16452.60</td>\n",
       "      <td>0.0</td>\n",
       "      <td>335279.91</td>\n",
       "      <td>335279.91</td>\n",
       "      <td>2011</td>\n",
       "    </tr>\n",
       "    <tr>\n",
       "      <th>3</th>\n",
       "      <td>CHRISTOPHER CHONG</td>\n",
       "      <td>WIRE ROPE CABLE MAINTENANCE MECHANIC</td>\n",
       "      <td>77916.00</td>\n",
       "      <td>56120.71</td>\n",
       "      <td>198306.90</td>\n",
       "      <td>0.0</td>\n",
       "      <td>332343.61</td>\n",
       "      <td>332343.61</td>\n",
       "      <td>2011</td>\n",
       "    </tr>\n",
       "    <tr>\n",
       "      <th>4</th>\n",
       "      <td>PATRICK GARDNER</td>\n",
       "      <td>DEPUTY CHIEF OF DEPARTMENT,(FIRE DEPARTMENT)</td>\n",
       "      <td>134401.60</td>\n",
       "      <td>9737.00</td>\n",
       "      <td>182234.59</td>\n",
       "      <td>0.0</td>\n",
       "      <td>326373.19</td>\n",
       "      <td>326373.19</td>\n",
       "      <td>2011</td>\n",
       "    </tr>\n",
       "    <tr>\n",
       "      <th>...</th>\n",
       "      <td>...</td>\n",
       "      <td>...</td>\n",
       "      <td>...</td>\n",
       "      <td>...</td>\n",
       "      <td>...</td>\n",
       "      <td>...</td>\n",
       "      <td>...</td>\n",
       "      <td>...</td>\n",
       "      <td>...</td>\n",
       "    </tr>\n",
       "    <tr>\n",
       "      <th>312877</th>\n",
       "      <td>Daniel W Plautz</td>\n",
       "      <td>Public Service Trainee</td>\n",
       "      <td>0.00</td>\n",
       "      <td>0.00</td>\n",
       "      <td>0.00</td>\n",
       "      <td>0.0</td>\n",
       "      <td>0.00</td>\n",
       "      <td>0.00</td>\n",
       "      <td>2018</td>\n",
       "    </tr>\n",
       "    <tr>\n",
       "      <th>312878</th>\n",
       "      <td>David J Thompson</td>\n",
       "      <td>Deputy Sheriff</td>\n",
       "      <td>0.00</td>\n",
       "      <td>0.00</td>\n",
       "      <td>0.00</td>\n",
       "      <td>0.0</td>\n",
       "      <td>0.00</td>\n",
       "      <td>0.00</td>\n",
       "      <td>2018</td>\n",
       "    </tr>\n",
       "    <tr>\n",
       "      <th>312879</th>\n",
       "      <td>Keiko Weng Yee Lau</td>\n",
       "      <td>Public Service Trainee</td>\n",
       "      <td>0.00</td>\n",
       "      <td>0.00</td>\n",
       "      <td>0.00</td>\n",
       "      <td>0.0</td>\n",
       "      <td>0.00</td>\n",
       "      <td>0.00</td>\n",
       "      <td>2018</td>\n",
       "    </tr>\n",
       "    <tr>\n",
       "      <th>312880</th>\n",
       "      <td>David Wong</td>\n",
       "      <td>Deputy Sheriff</td>\n",
       "      <td>0.00</td>\n",
       "      <td>0.00</td>\n",
       "      <td>0.00</td>\n",
       "      <td>0.0</td>\n",
       "      <td>0.00</td>\n",
       "      <td>0.00</td>\n",
       "      <td>2018</td>\n",
       "    </tr>\n",
       "    <tr>\n",
       "      <th>312881</th>\n",
       "      <td>Debora E Howard</td>\n",
       "      <td>Recreation Leader</td>\n",
       "      <td>0.00</td>\n",
       "      <td>0.00</td>\n",
       "      <td>0.00</td>\n",
       "      <td>0.0</td>\n",
       "      <td>0.00</td>\n",
       "      <td>0.00</td>\n",
       "      <td>2018</td>\n",
       "    </tr>\n",
       "  </tbody>\n",
       "</table>\n",
       "<p>312882 rows × 9 columns</p>\n",
       "</div>"
      ],
      "text/plain": [
       "              EmployeeName                                        JobTitle  \\\n",
       "0           NATHANIEL FORD  GENERAL MANAGER-METROPOLITAN TRANSIT AUTHORITY   \n",
       "1             GARY JIMENEZ                 CAPTAIN III (POLICE DEPARTMENT)   \n",
       "2           ALBERT PARDINI                 CAPTAIN III (POLICE DEPARTMENT)   \n",
       "3        CHRISTOPHER CHONG            WIRE ROPE CABLE MAINTENANCE MECHANIC   \n",
       "4          PATRICK GARDNER    DEPUTY CHIEF OF DEPARTMENT,(FIRE DEPARTMENT)   \n",
       "...                    ...                                             ...   \n",
       "312877     Daniel W Plautz                          Public Service Trainee   \n",
       "312878    David J Thompson                                  Deputy Sheriff   \n",
       "312879  Keiko Weng Yee Lau                          Public Service Trainee   \n",
       "312880          David Wong                                  Deputy Sheriff   \n",
       "312881     Debora E Howard                               Recreation Leader   \n",
       "\n",
       "          BasePay  OvertimePay   OtherPay  Benefits   TotalPay  \\\n",
       "0       167411.18         0.00  400184.25       0.0  567595.43   \n",
       "1       155966.02    245131.88  137811.38       0.0  538909.28   \n",
       "2       212739.13    106088.18   16452.60       0.0  335279.91   \n",
       "3        77916.00     56120.71  198306.90       0.0  332343.61   \n",
       "4       134401.60      9737.00  182234.59       0.0  326373.19   \n",
       "...           ...          ...        ...       ...        ...   \n",
       "312877       0.00         0.00       0.00       0.0       0.00   \n",
       "312878       0.00         0.00       0.00       0.0       0.00   \n",
       "312879       0.00         0.00       0.00       0.0       0.00   \n",
       "312880       0.00         0.00       0.00       0.0       0.00   \n",
       "312881       0.00         0.00       0.00       0.0       0.00   \n",
       "\n",
       "        TotalPayBenefits  Year  \n",
       "0              567595.43  2011  \n",
       "1              538909.28  2011  \n",
       "2              335279.91  2011  \n",
       "3              332343.61  2011  \n",
       "4              326373.19  2011  \n",
       "...                  ...   ...  \n",
       "312877              0.00  2018  \n",
       "312878              0.00  2018  \n",
       "312879              0.00  2018  \n",
       "312880              0.00  2018  \n",
       "312881              0.00  2018  \n",
       "\n",
       "[312882 rows x 9 columns]"
      ]
     },
     "execution_count": 775,
     "metadata": {},
     "output_type": "execute_result"
    }
   ],
   "source": [
    "# There are 3246 zero values for \"BasePay\". They are replaced by 0.\n",
    "\n",
    "# Then we replace NaN values for 0.0 in \"Benefits\"\n",
    "\n",
    "# Deleted with pd.dropna() method.\n",
    "\n",
    "#sf_data2 = sf_data.dropna(subset=[\"BasePay\"])\n",
    "#sf_data2\n",
    "\n",
    "sf_data[\"BasePay\"] = sf_data[\"BasePay\"].fillna(0)\n",
    "sf_data[\"Benefits\"] = sf_data[\"Benefits\"].fillna(0)\n",
    "sf_data\n",
    "\n",
    "#sf_data.loc[sf_data.Benefits == NaN, \"Benefits\"] = 0\n",
    "#sf_data.loc[(sf_data.Benefits == \"NaN\"),'Benefits'] = 0"
   ]
  },
  {
   "cell_type": "code",
   "execution_count": 776,
   "id": "526cb39c",
   "metadata": {},
   "outputs": [],
   "source": [
    "# Payroll analysis"
   ]
  },
  {
   "cell_type": "code",
   "execution_count": 777,
   "id": "a0cee3e2",
   "metadata": {},
   "outputs": [
    {
     "data": {
      "text/html": [
       "<div>\n",
       "<style scoped>\n",
       "    .dataframe tbody tr th:only-of-type {\n",
       "        vertical-align: middle;\n",
       "    }\n",
       "\n",
       "    .dataframe tbody tr th {\n",
       "        vertical-align: top;\n",
       "    }\n",
       "\n",
       "    .dataframe thead th {\n",
       "        text-align: right;\n",
       "    }\n",
       "</style>\n",
       "<table border=\"1\" class=\"dataframe\">\n",
       "  <thead>\n",
       "    <tr style=\"text-align: right;\">\n",
       "      <th></th>\n",
       "      <th>BasePay</th>\n",
       "      <th>OvertimePay</th>\n",
       "      <th>OtherPay</th>\n",
       "      <th>Benefits</th>\n",
       "      <th>TotalPay</th>\n",
       "      <th>TotalPayBenefits</th>\n",
       "      <th>Year</th>\n",
       "    </tr>\n",
       "  </thead>\n",
       "  <tbody>\n",
       "    <tr>\n",
       "      <th>count</th>\n",
       "      <td>312882.000000</td>\n",
       "      <td>312881.000000</td>\n",
       "      <td>312881.000000</td>\n",
       "      <td>312882.000000</td>\n",
       "      <td>312882.000000</td>\n",
       "      <td>312882.000000</td>\n",
       "      <td>312882.000000</td>\n",
       "    </tr>\n",
       "    <tr>\n",
       "      <th>mean</th>\n",
       "      <td>69673.050600</td>\n",
       "      <td>5668.929393</td>\n",
       "      <td>3460.694974</td>\n",
       "      <td>22125.693989</td>\n",
       "      <td>78802.645788</td>\n",
       "      <td>100928.339777</td>\n",
       "      <td>2014.625303</td>\n",
       "    </tr>\n",
       "    <tr>\n",
       "      <th>std</th>\n",
       "      <td>45436.746729</td>\n",
       "      <td>12745.655309</td>\n",
       "      <td>7387.263120</td>\n",
       "      <td>16289.184099</td>\n",
       "      <td>53230.758542</td>\n",
       "      <td>66485.186495</td>\n",
       "      <td>2.290899</td>\n",
       "    </tr>\n",
       "    <tr>\n",
       "      <th>min</th>\n",
       "      <td>-474.400000</td>\n",
       "      <td>-292.800000</td>\n",
       "      <td>-7058.590000</td>\n",
       "      <td>-13939.420000</td>\n",
       "      <td>-618.130000</td>\n",
       "      <td>-3628.780000</td>\n",
       "      <td>2011.000000</td>\n",
       "    </tr>\n",
       "    <tr>\n",
       "      <th>25%</th>\n",
       "      <td>35342.125000</td>\n",
       "      <td>0.000000</td>\n",
       "      <td>0.000000</td>\n",
       "      <td>2079.272500</td>\n",
       "      <td>38803.000000</td>\n",
       "      <td>48955.072500</td>\n",
       "      <td>2013.000000</td>\n",
       "    </tr>\n",
       "    <tr>\n",
       "      <th>50%</th>\n",
       "      <td>67645.970000</td>\n",
       "      <td>0.000000</td>\n",
       "      <td>728.000000</td>\n",
       "      <td>26771.565000</td>\n",
       "      <td>74908.790000</td>\n",
       "      <td>100011.290000</td>\n",
       "      <td>2015.000000</td>\n",
       "    </tr>\n",
       "    <tr>\n",
       "      <th>75%</th>\n",
       "      <td>99236.202500</td>\n",
       "      <td>5223.120000</td>\n",
       "      <td>3958.680000</td>\n",
       "      <td>34288.847500</td>\n",
       "      <td>111386.897500</td>\n",
       "      <td>142376.300000</td>\n",
       "      <td>2017.000000</td>\n",
       "    </tr>\n",
       "    <tr>\n",
       "      <th>max</th>\n",
       "      <td>592394.340000</td>\n",
       "      <td>309481.030000</td>\n",
       "      <td>400184.250000</td>\n",
       "      <td>125891.730000</td>\n",
       "      <td>592394.340000</td>\n",
       "      <td>712802.360000</td>\n",
       "      <td>2018.000000</td>\n",
       "    </tr>\n",
       "  </tbody>\n",
       "</table>\n",
       "</div>"
      ],
      "text/plain": [
       "             BasePay    OvertimePay       OtherPay       Benefits  \\\n",
       "count  312882.000000  312881.000000  312881.000000  312882.000000   \n",
       "mean    69673.050600    5668.929393    3460.694974   22125.693989   \n",
       "std     45436.746729   12745.655309    7387.263120   16289.184099   \n",
       "min      -474.400000    -292.800000   -7058.590000  -13939.420000   \n",
       "25%     35342.125000       0.000000       0.000000    2079.272500   \n",
       "50%     67645.970000       0.000000     728.000000   26771.565000   \n",
       "75%     99236.202500    5223.120000    3958.680000   34288.847500   \n",
       "max    592394.340000  309481.030000  400184.250000  125891.730000   \n",
       "\n",
       "            TotalPay  TotalPayBenefits           Year  \n",
       "count  312882.000000     312882.000000  312882.000000  \n",
       "mean    78802.645788     100928.339777    2014.625303  \n",
       "std     53230.758542      66485.186495       2.290899  \n",
       "min      -618.130000      -3628.780000    2011.000000  \n",
       "25%     38803.000000      48955.072500    2013.000000  \n",
       "50%     74908.790000     100011.290000    2015.000000  \n",
       "75%    111386.897500     142376.300000    2017.000000  \n",
       "max    592394.340000     712802.360000    2018.000000  "
      ]
     },
     "execution_count": 777,
     "metadata": {},
     "output_type": "execute_result"
    }
   ],
   "source": [
    "sf_data.describe()"
   ]
  },
  {
   "cell_type": "code",
   "execution_count": 778,
   "id": "9c65b315",
   "metadata": {},
   "outputs": [
    {
     "data": {
      "text/html": [
       "<div>\n",
       "<style scoped>\n",
       "    .dataframe tbody tr th:only-of-type {\n",
       "        vertical-align: middle;\n",
       "    }\n",
       "\n",
       "    .dataframe tbody tr th {\n",
       "        vertical-align: top;\n",
       "    }\n",
       "\n",
       "    .dataframe thead th {\n",
       "        text-align: right;\n",
       "    }\n",
       "</style>\n",
       "<table border=\"1\" class=\"dataframe\">\n",
       "  <thead>\n",
       "    <tr style=\"text-align: right;\">\n",
       "      <th></th>\n",
       "      <th>EmployeeName</th>\n",
       "      <th>JobTitle</th>\n",
       "      <th>BasePay</th>\n",
       "      <th>OvertimePay</th>\n",
       "      <th>OtherPay</th>\n",
       "      <th>Benefits</th>\n",
       "      <th>TotalPay</th>\n",
       "      <th>TotalPayBenefits</th>\n",
       "      <th>Year</th>\n",
       "    </tr>\n",
       "  </thead>\n",
       "  <tbody>\n",
       "    <tr>\n",
       "      <th>72832</th>\n",
       "      <td>Irwin Sidharta</td>\n",
       "      <td>Junior Clerk</td>\n",
       "      <td>-166.01</td>\n",
       "      <td>249.02</td>\n",
       "      <td>0.00</td>\n",
       "      <td>6.56</td>\n",
       "      <td>83.01</td>\n",
       "      <td>89.57</td>\n",
       "      <td>2012</td>\n",
       "    </tr>\n",
       "    <tr>\n",
       "      <th>72865</th>\n",
       "      <td>Robert Scott</td>\n",
       "      <td>Junior Clerk</td>\n",
       "      <td>-121.63</td>\n",
       "      <td>182.70</td>\n",
       "      <td>0.00</td>\n",
       "      <td>5.44</td>\n",
       "      <td>61.07</td>\n",
       "      <td>66.51</td>\n",
       "      <td>2012</td>\n",
       "    </tr>\n",
       "    <tr>\n",
       "      <th>72872</th>\n",
       "      <td>Chung Huey Kung</td>\n",
       "      <td>Junior Clerk</td>\n",
       "      <td>-109.22</td>\n",
       "      <td>163.83</td>\n",
       "      <td>0.00</td>\n",
       "      <td>4.32</td>\n",
       "      <td>54.61</td>\n",
       "      <td>58.93</td>\n",
       "      <td>2012</td>\n",
       "    </tr>\n",
       "    <tr>\n",
       "      <th>72874</th>\n",
       "      <td>Jordan Li</td>\n",
       "      <td>Junior Clerk</td>\n",
       "      <td>-106.60</td>\n",
       "      <td>159.90</td>\n",
       "      <td>0.00</td>\n",
       "      <td>4.66</td>\n",
       "      <td>53.30</td>\n",
       "      <td>57.96</td>\n",
       "      <td>2012</td>\n",
       "    </tr>\n",
       "    <tr>\n",
       "      <th>72878</th>\n",
       "      <td>Richard Jackson</td>\n",
       "      <td>Junior Clerk</td>\n",
       "      <td>-101.88</td>\n",
       "      <td>153.08</td>\n",
       "      <td>0.00</td>\n",
       "      <td>4.55</td>\n",
       "      <td>51.20</td>\n",
       "      <td>55.75</td>\n",
       "      <td>2012</td>\n",
       "    </tr>\n",
       "    <tr>\n",
       "      <th>72884</th>\n",
       "      <td>DiMarco McGhee-Stewart</td>\n",
       "      <td>Junior Clerk</td>\n",
       "      <td>-93.14</td>\n",
       "      <td>139.97</td>\n",
       "      <td>0.00</td>\n",
       "      <td>4.17</td>\n",
       "      <td>46.83</td>\n",
       "      <td>51.00</td>\n",
       "      <td>2012</td>\n",
       "    </tr>\n",
       "    <tr>\n",
       "      <th>72888</th>\n",
       "      <td>Leopoldo Marasigan</td>\n",
       "      <td>Junior Clerk</td>\n",
       "      <td>-87.38</td>\n",
       "      <td>131.06</td>\n",
       "      <td>0.00</td>\n",
       "      <td>3.89</td>\n",
       "      <td>43.68</td>\n",
       "      <td>47.57</td>\n",
       "      <td>2012</td>\n",
       "    </tr>\n",
       "    <tr>\n",
       "      <th>72894</th>\n",
       "      <td>Douglas Avalos</td>\n",
       "      <td>Junior Clerk</td>\n",
       "      <td>-75.67</td>\n",
       "      <td>113.76</td>\n",
       "      <td>0.00</td>\n",
       "      <td>3.39</td>\n",
       "      <td>38.09</td>\n",
       "      <td>41.48</td>\n",
       "      <td>2012</td>\n",
       "    </tr>\n",
       "    <tr>\n",
       "      <th>72908</th>\n",
       "      <td>Norma Rodriguez</td>\n",
       "      <td>Junior Clerk</td>\n",
       "      <td>-59.59</td>\n",
       "      <td>89.65</td>\n",
       "      <td>0.00</td>\n",
       "      <td>2.68</td>\n",
       "      <td>30.06</td>\n",
       "      <td>32.74</td>\n",
       "      <td>2012</td>\n",
       "    </tr>\n",
       "    <tr>\n",
       "      <th>72920</th>\n",
       "      <td>Charles Williams</td>\n",
       "      <td>Junior Clerk</td>\n",
       "      <td>-30.58</td>\n",
       "      <td>45.87</td>\n",
       "      <td>0.00</td>\n",
       "      <td>1.36</td>\n",
       "      <td>15.29</td>\n",
       "      <td>16.65</td>\n",
       "      <td>2012</td>\n",
       "    </tr>\n",
       "    <tr>\n",
       "      <th>72922</th>\n",
       "      <td>John Draper</td>\n",
       "      <td>Clerk</td>\n",
       "      <td>-9.50</td>\n",
       "      <td>14.25</td>\n",
       "      <td>0.00</td>\n",
       "      <td>0.42</td>\n",
       "      <td>4.75</td>\n",
       "      <td>5.17</td>\n",
       "      <td>2012</td>\n",
       "    </tr>\n",
       "    <tr>\n",
       "      <th>188036</th>\n",
       "      <td>Lubna Kaur</td>\n",
       "      <td>PS Aide Health Services</td>\n",
       "      <td>-292.40</td>\n",
       "      <td>0.00</td>\n",
       "      <td>0.00</td>\n",
       "      <td>-2.92</td>\n",
       "      <td>-292.40</td>\n",
       "      <td>-295.32</td>\n",
       "      <td>2015</td>\n",
       "    </tr>\n",
       "    <tr>\n",
       "      <th>270571</th>\n",
       "      <td>Carlos R Castro Santiago</td>\n",
       "      <td>Custodian</td>\n",
       "      <td>-474.40</td>\n",
       "      <td>0.00</td>\n",
       "      <td>-23.72</td>\n",
       "      <td>-79.35</td>\n",
       "      <td>-498.12</td>\n",
       "      <td>-577.47</td>\n",
       "      <td>2017</td>\n",
       "    </tr>\n",
       "  </tbody>\n",
       "</table>\n",
       "</div>"
      ],
      "text/plain": [
       "                    EmployeeName                 JobTitle  BasePay  \\\n",
       "72832             Irwin Sidharta             Junior Clerk  -166.01   \n",
       "72865               Robert Scott             Junior Clerk  -121.63   \n",
       "72872            Chung Huey Kung             Junior Clerk  -109.22   \n",
       "72874                  Jordan Li             Junior Clerk  -106.60   \n",
       "72878            Richard Jackson             Junior Clerk  -101.88   \n",
       "72884     DiMarco McGhee-Stewart             Junior Clerk   -93.14   \n",
       "72888         Leopoldo Marasigan             Junior Clerk   -87.38   \n",
       "72894             Douglas Avalos             Junior Clerk   -75.67   \n",
       "72908            Norma Rodriguez             Junior Clerk   -59.59   \n",
       "72920           Charles Williams             Junior Clerk   -30.58   \n",
       "72922                John Draper                    Clerk    -9.50   \n",
       "188036                Lubna Kaur  PS Aide Health Services  -292.40   \n",
       "270571  Carlos R Castro Santiago                Custodian  -474.40   \n",
       "\n",
       "        OvertimePay  OtherPay  Benefits  TotalPay  TotalPayBenefits  Year  \n",
       "72832        249.02      0.00      6.56     83.01             89.57  2012  \n",
       "72865        182.70      0.00      5.44     61.07             66.51  2012  \n",
       "72872        163.83      0.00      4.32     54.61             58.93  2012  \n",
       "72874        159.90      0.00      4.66     53.30             57.96  2012  \n",
       "72878        153.08      0.00      4.55     51.20             55.75  2012  \n",
       "72884        139.97      0.00      4.17     46.83             51.00  2012  \n",
       "72888        131.06      0.00      3.89     43.68             47.57  2012  \n",
       "72894        113.76      0.00      3.39     38.09             41.48  2012  \n",
       "72908         89.65      0.00      2.68     30.06             32.74  2012  \n",
       "72920         45.87      0.00      1.36     15.29             16.65  2012  \n",
       "72922         14.25      0.00      0.42      4.75              5.17  2012  \n",
       "188036         0.00      0.00     -2.92   -292.40           -295.32  2015  \n",
       "270571         0.00    -23.72    -79.35   -498.12           -577.47  2017  "
      ]
     },
     "execution_count": 778,
     "metadata": {},
     "output_type": "execute_result"
    }
   ],
   "source": [
    "# Looking the description, I found negative values.\n",
    "# Let's check \n",
    "sf_data[sf_data[\"BasePay\"]< 0]"
   ]
  },
  {
   "cell_type": "code",
   "execution_count": 1332,
   "id": "daa8a5c0",
   "metadata": {},
   "outputs": [],
   "source": [
    "# There are a 13 negative values, that are not useful for our task. "
   ]
  },
  {
   "cell_type": "code",
   "execution_count": 780,
   "id": "1945a81a",
   "metadata": {},
   "outputs": [
    {
     "data": {
      "text/html": [
       "<div>\n",
       "<style scoped>\n",
       "    .dataframe tbody tr th:only-of-type {\n",
       "        vertical-align: middle;\n",
       "    }\n",
       "\n",
       "    .dataframe tbody tr th {\n",
       "        vertical-align: top;\n",
       "    }\n",
       "\n",
       "    .dataframe thead th {\n",
       "        text-align: right;\n",
       "    }\n",
       "</style>\n",
       "<table border=\"1\" class=\"dataframe\">\n",
       "  <thead>\n",
       "    <tr style=\"text-align: right;\">\n",
       "      <th></th>\n",
       "      <th>EmployeeName</th>\n",
       "      <th>JobTitle</th>\n",
       "      <th>BasePay</th>\n",
       "      <th>OvertimePay</th>\n",
       "      <th>OtherPay</th>\n",
       "      <th>Benefits</th>\n",
       "      <th>TotalPay</th>\n",
       "      <th>TotalPayBenefits</th>\n",
       "      <th>Year</th>\n",
       "    </tr>\n",
       "  </thead>\n",
       "  <tbody>\n",
       "    <tr>\n",
       "      <th>0</th>\n",
       "      <td>NATHANIEL FORD</td>\n",
       "      <td>GENERAL MANAGER-METROPOLITAN TRANSIT AUTHORITY</td>\n",
       "      <td>167411.18</td>\n",
       "      <td>0.00</td>\n",
       "      <td>400184.25</td>\n",
       "      <td>0.0</td>\n",
       "      <td>567595.43</td>\n",
       "      <td>567595.43</td>\n",
       "      <td>2011</td>\n",
       "    </tr>\n",
       "    <tr>\n",
       "      <th>1</th>\n",
       "      <td>GARY JIMENEZ</td>\n",
       "      <td>CAPTAIN III (POLICE DEPARTMENT)</td>\n",
       "      <td>155966.02</td>\n",
       "      <td>245131.88</td>\n",
       "      <td>137811.38</td>\n",
       "      <td>0.0</td>\n",
       "      <td>538909.28</td>\n",
       "      <td>538909.28</td>\n",
       "      <td>2011</td>\n",
       "    </tr>\n",
       "    <tr>\n",
       "      <th>2</th>\n",
       "      <td>ALBERT PARDINI</td>\n",
       "      <td>CAPTAIN III (POLICE DEPARTMENT)</td>\n",
       "      <td>212739.13</td>\n",
       "      <td>106088.18</td>\n",
       "      <td>16452.60</td>\n",
       "      <td>0.0</td>\n",
       "      <td>335279.91</td>\n",
       "      <td>335279.91</td>\n",
       "      <td>2011</td>\n",
       "    </tr>\n",
       "    <tr>\n",
       "      <th>3</th>\n",
       "      <td>CHRISTOPHER CHONG</td>\n",
       "      <td>WIRE ROPE CABLE MAINTENANCE MECHANIC</td>\n",
       "      <td>77916.00</td>\n",
       "      <td>56120.71</td>\n",
       "      <td>198306.90</td>\n",
       "      <td>0.0</td>\n",
       "      <td>332343.61</td>\n",
       "      <td>332343.61</td>\n",
       "      <td>2011</td>\n",
       "    </tr>\n",
       "    <tr>\n",
       "      <th>4</th>\n",
       "      <td>PATRICK GARDNER</td>\n",
       "      <td>DEPUTY CHIEF OF DEPARTMENT,(FIRE DEPARTMENT)</td>\n",
       "      <td>134401.60</td>\n",
       "      <td>9737.00</td>\n",
       "      <td>182234.59</td>\n",
       "      <td>0.0</td>\n",
       "      <td>326373.19</td>\n",
       "      <td>326373.19</td>\n",
       "      <td>2011</td>\n",
       "    </tr>\n",
       "    <tr>\n",
       "      <th>...</th>\n",
       "      <td>...</td>\n",
       "      <td>...</td>\n",
       "      <td>...</td>\n",
       "      <td>...</td>\n",
       "      <td>...</td>\n",
       "      <td>...</td>\n",
       "      <td>...</td>\n",
       "      <td>...</td>\n",
       "      <td>...</td>\n",
       "    </tr>\n",
       "    <tr>\n",
       "      <th>312877</th>\n",
       "      <td>Daniel W Plautz</td>\n",
       "      <td>Public Service Trainee</td>\n",
       "      <td>0.00</td>\n",
       "      <td>0.00</td>\n",
       "      <td>0.00</td>\n",
       "      <td>0.0</td>\n",
       "      <td>0.00</td>\n",
       "      <td>0.00</td>\n",
       "      <td>2018</td>\n",
       "    </tr>\n",
       "    <tr>\n",
       "      <th>312878</th>\n",
       "      <td>David J Thompson</td>\n",
       "      <td>Deputy Sheriff</td>\n",
       "      <td>0.00</td>\n",
       "      <td>0.00</td>\n",
       "      <td>0.00</td>\n",
       "      <td>0.0</td>\n",
       "      <td>0.00</td>\n",
       "      <td>0.00</td>\n",
       "      <td>2018</td>\n",
       "    </tr>\n",
       "    <tr>\n",
       "      <th>312879</th>\n",
       "      <td>Keiko Weng Yee Lau</td>\n",
       "      <td>Public Service Trainee</td>\n",
       "      <td>0.00</td>\n",
       "      <td>0.00</td>\n",
       "      <td>0.00</td>\n",
       "      <td>0.0</td>\n",
       "      <td>0.00</td>\n",
       "      <td>0.00</td>\n",
       "      <td>2018</td>\n",
       "    </tr>\n",
       "    <tr>\n",
       "      <th>312880</th>\n",
       "      <td>David Wong</td>\n",
       "      <td>Deputy Sheriff</td>\n",
       "      <td>0.00</td>\n",
       "      <td>0.00</td>\n",
       "      <td>0.00</td>\n",
       "      <td>0.0</td>\n",
       "      <td>0.00</td>\n",
       "      <td>0.00</td>\n",
       "      <td>2018</td>\n",
       "    </tr>\n",
       "    <tr>\n",
       "      <th>312881</th>\n",
       "      <td>Debora E Howard</td>\n",
       "      <td>Recreation Leader</td>\n",
       "      <td>0.00</td>\n",
       "      <td>0.00</td>\n",
       "      <td>0.00</td>\n",
       "      <td>0.0</td>\n",
       "      <td>0.00</td>\n",
       "      <td>0.00</td>\n",
       "      <td>2018</td>\n",
       "    </tr>\n",
       "  </tbody>\n",
       "</table>\n",
       "<p>312869 rows × 9 columns</p>\n",
       "</div>"
      ],
      "text/plain": [
       "              EmployeeName                                        JobTitle  \\\n",
       "0           NATHANIEL FORD  GENERAL MANAGER-METROPOLITAN TRANSIT AUTHORITY   \n",
       "1             GARY JIMENEZ                 CAPTAIN III (POLICE DEPARTMENT)   \n",
       "2           ALBERT PARDINI                 CAPTAIN III (POLICE DEPARTMENT)   \n",
       "3        CHRISTOPHER CHONG            WIRE ROPE CABLE MAINTENANCE MECHANIC   \n",
       "4          PATRICK GARDNER    DEPUTY CHIEF OF DEPARTMENT,(FIRE DEPARTMENT)   \n",
       "...                    ...                                             ...   \n",
       "312877     Daniel W Plautz                          Public Service Trainee   \n",
       "312878    David J Thompson                                  Deputy Sheriff   \n",
       "312879  Keiko Weng Yee Lau                          Public Service Trainee   \n",
       "312880          David Wong                                  Deputy Sheriff   \n",
       "312881     Debora E Howard                               Recreation Leader   \n",
       "\n",
       "          BasePay  OvertimePay   OtherPay  Benefits   TotalPay  \\\n",
       "0       167411.18         0.00  400184.25       0.0  567595.43   \n",
       "1       155966.02    245131.88  137811.38       0.0  538909.28   \n",
       "2       212739.13    106088.18   16452.60       0.0  335279.91   \n",
       "3        77916.00     56120.71  198306.90       0.0  332343.61   \n",
       "4       134401.60      9737.00  182234.59       0.0  326373.19   \n",
       "...           ...          ...        ...       ...        ...   \n",
       "312877       0.00         0.00       0.00       0.0       0.00   \n",
       "312878       0.00         0.00       0.00       0.0       0.00   \n",
       "312879       0.00         0.00       0.00       0.0       0.00   \n",
       "312880       0.00         0.00       0.00       0.0       0.00   \n",
       "312881       0.00         0.00       0.00       0.0       0.00   \n",
       "\n",
       "        TotalPayBenefits  Year  \n",
       "0              567595.43  2011  \n",
       "1              538909.28  2011  \n",
       "2              335279.91  2011  \n",
       "3              332343.61  2011  \n",
       "4              326373.19  2011  \n",
       "...                  ...   ...  \n",
       "312877              0.00  2018  \n",
       "312878              0.00  2018  \n",
       "312879              0.00  2018  \n",
       "312880              0.00  2018  \n",
       "312881              0.00  2018  \n",
       "\n",
       "[312869 rows x 9 columns]"
      ]
     },
     "execution_count": 780,
     "metadata": {},
     "output_type": "execute_result"
    }
   ],
   "source": [
    "#Borramos las filas que tienen \"BasePay\" negativo, ya que no son de utilidad\n",
    "sf_data.drop(sf_data.loc[sf_data['BasePay']<0].index, inplace=True)\n",
    "\n",
    "sf_data"
   ]
  },
  {
   "cell_type": "code",
   "execution_count": 849,
   "id": "1d26d8c6",
   "metadata": {
    "scrolled": false
   },
   "outputs": [
    {
     "data": {
      "text/html": [
       "<div>\n",
       "<style scoped>\n",
       "    .dataframe tbody tr th:only-of-type {\n",
       "        vertical-align: middle;\n",
       "    }\n",
       "\n",
       "    .dataframe tbody tr th {\n",
       "        vertical-align: top;\n",
       "    }\n",
       "\n",
       "    .dataframe thead th {\n",
       "        text-align: right;\n",
       "    }\n",
       "</style>\n",
       "<table border=\"1\" class=\"dataframe\">\n",
       "  <thead>\n",
       "    <tr style=\"text-align: right;\">\n",
       "      <th></th>\n",
       "      <th>EmployeeName</th>\n",
       "      <th>JobTitle</th>\n",
       "      <th>BasePay</th>\n",
       "      <th>OvertimePay</th>\n",
       "      <th>OtherPay</th>\n",
       "      <th>Benefits</th>\n",
       "      <th>TotalPay</th>\n",
       "      <th>TotalPayBenefits</th>\n",
       "      <th>Year</th>\n",
       "    </tr>\n",
       "  </thead>\n",
       "  <tbody>\n",
       "    <tr>\n",
       "      <th>0</th>\n",
       "      <td>NATHANIEL FORD</td>\n",
       "      <td>GENERAL MANAGER-METROPOLITAN TRANSIT AUTHORITY</td>\n",
       "      <td>167411.18</td>\n",
       "      <td>0.00</td>\n",
       "      <td>400184.25</td>\n",
       "      <td>0.0</td>\n",
       "      <td>567595.43</td>\n",
       "      <td>567595.43</td>\n",
       "      <td>2011</td>\n",
       "    </tr>\n",
       "    <tr>\n",
       "      <th>1</th>\n",
       "      <td>GARY JIMENEZ</td>\n",
       "      <td>CAPTAIN III (POLICE DEPARTMENT)</td>\n",
       "      <td>155966.02</td>\n",
       "      <td>245131.88</td>\n",
       "      <td>137811.38</td>\n",
       "      <td>0.0</td>\n",
       "      <td>538909.28</td>\n",
       "      <td>538909.28</td>\n",
       "      <td>2011</td>\n",
       "    </tr>\n",
       "    <tr>\n",
       "      <th>2</th>\n",
       "      <td>ALBERT PARDINI</td>\n",
       "      <td>CAPTAIN III (POLICE DEPARTMENT)</td>\n",
       "      <td>212739.13</td>\n",
       "      <td>106088.18</td>\n",
       "      <td>16452.60</td>\n",
       "      <td>0.0</td>\n",
       "      <td>335279.91</td>\n",
       "      <td>335279.91</td>\n",
       "      <td>2011</td>\n",
       "    </tr>\n",
       "    <tr>\n",
       "      <th>3</th>\n",
       "      <td>CHRISTOPHER CHONG</td>\n",
       "      <td>WIRE ROPE CABLE MAINTENANCE MECHANIC</td>\n",
       "      <td>77916.00</td>\n",
       "      <td>56120.71</td>\n",
       "      <td>198306.90</td>\n",
       "      <td>0.0</td>\n",
       "      <td>332343.61</td>\n",
       "      <td>332343.61</td>\n",
       "      <td>2011</td>\n",
       "    </tr>\n",
       "    <tr>\n",
       "      <th>4</th>\n",
       "      <td>PATRICK GARDNER</td>\n",
       "      <td>DEPUTY CHIEF OF DEPARTMENT,(FIRE DEPARTMENT)</td>\n",
       "      <td>134401.60</td>\n",
       "      <td>9737.00</td>\n",
       "      <td>182234.59</td>\n",
       "      <td>0.0</td>\n",
       "      <td>326373.19</td>\n",
       "      <td>326373.19</td>\n",
       "      <td>2011</td>\n",
       "    </tr>\n",
       "    <tr>\n",
       "      <th>...</th>\n",
       "      <td>...</td>\n",
       "      <td>...</td>\n",
       "      <td>...</td>\n",
       "      <td>...</td>\n",
       "      <td>...</td>\n",
       "      <td>...</td>\n",
       "      <td>...</td>\n",
       "      <td>...</td>\n",
       "      <td>...</td>\n",
       "    </tr>\n",
       "    <tr>\n",
       "      <th>312877</th>\n",
       "      <td>Daniel W Plautz</td>\n",
       "      <td>Public Service Trainee</td>\n",
       "      <td>0.00</td>\n",
       "      <td>0.00</td>\n",
       "      <td>0.00</td>\n",
       "      <td>0.0</td>\n",
       "      <td>0.00</td>\n",
       "      <td>0.00</td>\n",
       "      <td>2018</td>\n",
       "    </tr>\n",
       "    <tr>\n",
       "      <th>312878</th>\n",
       "      <td>David J Thompson</td>\n",
       "      <td>Deputy Sheriff</td>\n",
       "      <td>0.00</td>\n",
       "      <td>0.00</td>\n",
       "      <td>0.00</td>\n",
       "      <td>0.0</td>\n",
       "      <td>0.00</td>\n",
       "      <td>0.00</td>\n",
       "      <td>2018</td>\n",
       "    </tr>\n",
       "    <tr>\n",
       "      <th>312879</th>\n",
       "      <td>Keiko Weng Yee Lau</td>\n",
       "      <td>Public Service Trainee</td>\n",
       "      <td>0.00</td>\n",
       "      <td>0.00</td>\n",
       "      <td>0.00</td>\n",
       "      <td>0.0</td>\n",
       "      <td>0.00</td>\n",
       "      <td>0.00</td>\n",
       "      <td>2018</td>\n",
       "    </tr>\n",
       "    <tr>\n",
       "      <th>312880</th>\n",
       "      <td>David Wong</td>\n",
       "      <td>Deputy Sheriff</td>\n",
       "      <td>0.00</td>\n",
       "      <td>0.00</td>\n",
       "      <td>0.00</td>\n",
       "      <td>0.0</td>\n",
       "      <td>0.00</td>\n",
       "      <td>0.00</td>\n",
       "      <td>2018</td>\n",
       "    </tr>\n",
       "    <tr>\n",
       "      <th>312881</th>\n",
       "      <td>Debora E Howard</td>\n",
       "      <td>Recreation Leader</td>\n",
       "      <td>0.00</td>\n",
       "      <td>0.00</td>\n",
       "      <td>0.00</td>\n",
       "      <td>0.0</td>\n",
       "      <td>0.00</td>\n",
       "      <td>0.00</td>\n",
       "      <td>2018</td>\n",
       "    </tr>\n",
       "  </tbody>\n",
       "</table>\n",
       "<p>312817 rows × 9 columns</p>\n",
       "</div>"
      ],
      "text/plain": [
       "              EmployeeName                                        JobTitle  \\\n",
       "0           NATHANIEL FORD  GENERAL MANAGER-METROPOLITAN TRANSIT AUTHORITY   \n",
       "1             GARY JIMENEZ                 CAPTAIN III (POLICE DEPARTMENT)   \n",
       "2           ALBERT PARDINI                 CAPTAIN III (POLICE DEPARTMENT)   \n",
       "3        CHRISTOPHER CHONG            WIRE ROPE CABLE MAINTENANCE MECHANIC   \n",
       "4          PATRICK GARDNER    DEPUTY CHIEF OF DEPARTMENT,(FIRE DEPARTMENT)   \n",
       "...                    ...                                             ...   \n",
       "312877     Daniel W Plautz                          Public Service Trainee   \n",
       "312878    David J Thompson                                  Deputy Sheriff   \n",
       "312879  Keiko Weng Yee Lau                          Public Service Trainee   \n",
       "312880          David Wong                                  Deputy Sheriff   \n",
       "312881     Debora E Howard                               Recreation Leader   \n",
       "\n",
       "          BasePay  OvertimePay   OtherPay  Benefits   TotalPay  \\\n",
       "0       167411.18         0.00  400184.25       0.0  567595.43   \n",
       "1       155966.02    245131.88  137811.38       0.0  538909.28   \n",
       "2       212739.13    106088.18   16452.60       0.0  335279.91   \n",
       "3        77916.00     56120.71  198306.90       0.0  332343.61   \n",
       "4       134401.60      9737.00  182234.59       0.0  326373.19   \n",
       "...           ...          ...        ...       ...        ...   \n",
       "312877       0.00         0.00       0.00       0.0       0.00   \n",
       "312878       0.00         0.00       0.00       0.0       0.00   \n",
       "312879       0.00         0.00       0.00       0.0       0.00   \n",
       "312880       0.00         0.00       0.00       0.0       0.00   \n",
       "312881       0.00         0.00       0.00       0.0       0.00   \n",
       "\n",
       "        TotalPayBenefits  Year  \n",
       "0              567595.43  2011  \n",
       "1              538909.28  2011  \n",
       "2              335279.91  2011  \n",
       "3              332343.61  2011  \n",
       "4              326373.19  2011  \n",
       "...                  ...   ...  \n",
       "312877              0.00  2018  \n",
       "312878              0.00  2018  \n",
       "312879              0.00  2018  \n",
       "312880              0.00  2018  \n",
       "312881              0.00  2018  \n",
       "\n",
       "[312817 rows x 9 columns]"
      ]
     },
     "execution_count": 849,
     "metadata": {},
     "output_type": "execute_result"
    }
   ],
   "source": [
    "# Reproducimos el procedimiento para las columnas ya que valores negativos no son de utilidad\n",
    "sf_data.drop(sf_data.loc[sf_data['OvertimePay']<0].index, inplace=True)\n",
    "sf_data.drop(sf_data.loc[sf_data['OtherPay']<0].index, inplace=True)\n",
    "sf_data.drop(sf_data.loc[sf_data['Benefits']<0].index, inplace=True)\n",
    "sf_data.drop(sf_data.loc[sf_data['TotalPay']<0].index, inplace=True)\n",
    "sf_data.round(2)"
   ]
  },
  {
   "cell_type": "code",
   "execution_count": 782,
   "id": "3868add4",
   "metadata": {},
   "outputs": [
    {
     "data": {
      "text/html": [
       "<div>\n",
       "<style scoped>\n",
       "    .dataframe tbody tr th:only-of-type {\n",
       "        vertical-align: middle;\n",
       "    }\n",
       "\n",
       "    .dataframe tbody tr th {\n",
       "        vertical-align: top;\n",
       "    }\n",
       "\n",
       "    .dataframe thead th {\n",
       "        text-align: right;\n",
       "    }\n",
       "</style>\n",
       "<table border=\"1\" class=\"dataframe\">\n",
       "  <thead>\n",
       "    <tr style=\"text-align: right;\">\n",
       "      <th></th>\n",
       "      <th>BasePay</th>\n",
       "      <th>OvertimePay</th>\n",
       "      <th>OtherPay</th>\n",
       "      <th>Benefits</th>\n",
       "      <th>TotalPay</th>\n",
       "      <th>TotalPayBenefits</th>\n",
       "      <th>Year</th>\n",
       "    </tr>\n",
       "  </thead>\n",
       "  <tbody>\n",
       "    <tr>\n",
       "      <th>count</th>\n",
       "      <td>312817.000000</td>\n",
       "      <td>312816.000000</td>\n",
       "      <td>312816.000000</td>\n",
       "      <td>312817.000000</td>\n",
       "      <td>312817.000000</td>\n",
       "      <td>312817.000000</td>\n",
       "      <td>312817.000000</td>\n",
       "    </tr>\n",
       "    <tr>\n",
       "      <th>mean</th>\n",
       "      <td>69683.550274</td>\n",
       "      <td>5669.943701</td>\n",
       "      <td>3460.727238</td>\n",
       "      <td>22129.649692</td>\n",
       "      <td>78814.192025</td>\n",
       "      <td>100943.841717</td>\n",
       "      <td>2014.625209</td>\n",
       "    </tr>\n",
       "    <tr>\n",
       "      <th>std</th>\n",
       "      <td>45431.256555</td>\n",
       "      <td>12746.711193</td>\n",
       "      <td>7387.022855</td>\n",
       "      <td>16287.830916</td>\n",
       "      <td>53226.160004</td>\n",
       "      <td>66479.288552</td>\n",
       "      <td>2.290975</td>\n",
       "    </tr>\n",
       "    <tr>\n",
       "      <th>min</th>\n",
       "      <td>0.000000</td>\n",
       "      <td>0.000000</td>\n",
       "      <td>0.000000</td>\n",
       "      <td>0.000000</td>\n",
       "      <td>0.000000</td>\n",
       "      <td>0.000000</td>\n",
       "      <td>2011.000000</td>\n",
       "    </tr>\n",
       "    <tr>\n",
       "      <th>25%</th>\n",
       "      <td>35375.180000</td>\n",
       "      <td>0.000000</td>\n",
       "      <td>0.000000</td>\n",
       "      <td>2086.210000</td>\n",
       "      <td>38831.780000</td>\n",
       "      <td>49010.800000</td>\n",
       "      <td>2013.000000</td>\n",
       "    </tr>\n",
       "    <tr>\n",
       "      <th>50%</th>\n",
       "      <td>67651.000000</td>\n",
       "      <td>0.000000</td>\n",
       "      <td>728.010000</td>\n",
       "      <td>26773.100000</td>\n",
       "      <td>74917.060000</td>\n",
       "      <td>100024.480000</td>\n",
       "      <td>2015.000000</td>\n",
       "    </tr>\n",
       "    <tr>\n",
       "      <th>75%</th>\n",
       "      <td>99251.020000</td>\n",
       "      <td>5224.990000</td>\n",
       "      <td>3958.680000</td>\n",
       "      <td>34290.590000</td>\n",
       "      <td>111392.940000</td>\n",
       "      <td>142384.220000</td>\n",
       "      <td>2017.000000</td>\n",
       "    </tr>\n",
       "    <tr>\n",
       "      <th>max</th>\n",
       "      <td>592394.340000</td>\n",
       "      <td>309481.030000</td>\n",
       "      <td>400184.250000</td>\n",
       "      <td>125891.730000</td>\n",
       "      <td>592394.340000</td>\n",
       "      <td>712802.360000</td>\n",
       "      <td>2018.000000</td>\n",
       "    </tr>\n",
       "  </tbody>\n",
       "</table>\n",
       "</div>"
      ],
      "text/plain": [
       "             BasePay    OvertimePay       OtherPay       Benefits  \\\n",
       "count  312817.000000  312816.000000  312816.000000  312817.000000   \n",
       "mean    69683.550274    5669.943701    3460.727238   22129.649692   \n",
       "std     45431.256555   12746.711193    7387.022855   16287.830916   \n",
       "min         0.000000       0.000000       0.000000       0.000000   \n",
       "25%     35375.180000       0.000000       0.000000    2086.210000   \n",
       "50%     67651.000000       0.000000     728.010000   26773.100000   \n",
       "75%     99251.020000    5224.990000    3958.680000   34290.590000   \n",
       "max    592394.340000  309481.030000  400184.250000  125891.730000   \n",
       "\n",
       "            TotalPay  TotalPayBenefits           Year  \n",
       "count  312817.000000     312817.000000  312817.000000  \n",
       "mean    78814.192025     100943.841717    2014.625209  \n",
       "std     53226.160004      66479.288552       2.290975  \n",
       "min         0.000000          0.000000    2011.000000  \n",
       "25%     38831.780000      49010.800000    2013.000000  \n",
       "50%     74917.060000     100024.480000    2015.000000  \n",
       "75%    111392.940000     142384.220000    2017.000000  \n",
       "max    592394.340000     712802.360000    2018.000000  "
      ]
     },
     "execution_count": 782,
     "metadata": {},
     "output_type": "execute_result"
    }
   ],
   "source": [
    "# Calculate the basic stats for \"BasePay\", \"OvertimePay\", \"OtherPay\", \"Benefits\" columns\n",
    "sf_data[\"BasePay\"].describe().round(2)\n",
    "sf_data.describe()"
   ]
  },
  {
   "cell_type": "code",
   "execution_count": 1275,
   "id": "e389e20a",
   "metadata": {},
   "outputs": [
    {
     "data": {
      "text/html": [
       "<div>\n",
       "<style scoped>\n",
       "    .dataframe tbody tr th:only-of-type {\n",
       "        vertical-align: middle;\n",
       "    }\n",
       "\n",
       "    .dataframe tbody tr th {\n",
       "        vertical-align: top;\n",
       "    }\n",
       "\n",
       "    .dataframe thead th {\n",
       "        text-align: right;\n",
       "    }\n",
       "</style>\n",
       "<table border=\"1\" class=\"dataframe\">\n",
       "  <thead>\n",
       "    <tr style=\"text-align: right;\">\n",
       "      <th></th>\n",
       "      <th>BasePay</th>\n",
       "    </tr>\n",
       "    <tr>\n",
       "      <th>Year</th>\n",
       "      <th></th>\n",
       "    </tr>\n",
       "  </thead>\n",
       "  <tbody>\n",
       "    <tr>\n",
       "      <th>2011</th>\n",
       "      <td>63595.96</td>\n",
       "    </tr>\n",
       "    <tr>\n",
       "      <th>2012</th>\n",
       "      <td>65456.02</td>\n",
       "    </tr>\n",
       "    <tr>\n",
       "      <th>2013</th>\n",
       "      <td>68516.17</td>\n",
       "    </tr>\n",
       "    <tr>\n",
       "      <th>2014</th>\n",
       "      <td>66567.91</td>\n",
       "    </tr>\n",
       "    <tr>\n",
       "      <th>2015</th>\n",
       "      <td>68778.05</td>\n",
       "    </tr>\n",
       "    <tr>\n",
       "      <th>2016</th>\n",
       "      <td>71230.51</td>\n",
       "    </tr>\n",
       "    <tr>\n",
       "      <th>2017</th>\n",
       "      <td>74570.62</td>\n",
       "    </tr>\n",
       "    <tr>\n",
       "      <th>2018</th>\n",
       "      <td>76949.41</td>\n",
       "    </tr>\n",
       "  </tbody>\n",
       "</table>\n",
       "</div>"
      ],
      "text/plain": [
       "       BasePay\n",
       "Year          \n",
       "2011  63595.96\n",
       "2012  65456.02\n",
       "2013  68516.17\n",
       "2014  66567.91\n",
       "2015  68778.05\n",
       "2016  71230.51\n",
       "2017  74570.62\n",
       "2018  76949.41"
      ]
     },
     "execution_count": 1275,
     "metadata": {},
     "output_type": "execute_result"
    }
   ],
   "source": [
    "# What is the average Base Pay for each year?\n",
    "sf_data.groupby([\"Year\"]).mean()"
   ]
  },
  {
   "cell_type": "code",
   "execution_count": 785,
   "id": "dc631f3a",
   "metadata": {},
   "outputs": [
    {
     "data": {
      "text/plain": [
       "[Text(0.5, 1.0, 'Average BasePay for each year')]"
      ]
     },
     "execution_count": 785,
     "metadata": {},
     "output_type": "execute_result"
    },
    {
     "data": {
      "image/png": "[encoded data removed]",
      "text/plain": [
       "<Figure size 432x288 with 1 Axes>"
      ]
     },
     "metadata": {
      "needs_background": "light"
     },
     "output_type": "display_data"
    }
   ],
   "source": [
    "sns.barplot(data = sf_data, x = \"Year\", y = \"BasePay\").set(title = \"Average BasePay for each year\")"
   ]
  },
  {
   "cell_type": "code",
   "execution_count": 786,
   "id": "ae1f1e90",
   "metadata": {},
   "outputs": [
    {
     "data": {
      "text/plain": [
       "Year\n",
       "2011    71744.10\n",
       "2012    74135.43\n",
       "2013    77619.81\n",
       "2014    75475.55\n",
       "2015    77510.24\n",
       "2016    80567.14\n",
       "2017    84235.01\n",
       "2018    87184.03\n",
       "Name: TotalPay, dtype: float64"
      ]
     },
     "execution_count": 786,
     "metadata": {},
     "output_type": "execute_result"
    }
   ],
   "source": [
    "# What is the average Total Pay for each year?\n",
    "sf_data.groupby(\"Year\").mean()[\"TotalPay\"].round(2)"
   ]
  },
  {
   "cell_type": "code",
   "execution_count": 787,
   "id": "022fd348",
   "metadata": {},
   "outputs": [
    {
     "data": {
      "text/plain": [
       "[Text(0.5, 1.0, 'Average TotalPay for each year')]"
      ]
     },
     "execution_count": 787,
     "metadata": {},
     "output_type": "execute_result"
    },
    {
     "data": {
      "image/png": "[encoded data removed]",
      "text/plain": [
       "<Figure size 432x288 with 1 Axes>"
      ]
     },
     "metadata": {
      "needs_background": "light"
     },
     "output_type": "display_data"
    }
   ],
   "source": [
    "sns.barplot(data = sf_data, x = \"Year\", y = \"TotalPay\").set(title = \"Average TotalPay for each year\")"
   ]
  },
  {
   "cell_type": "code",
   "execution_count": 788,
   "id": "f5c7c200",
   "metadata": {},
   "outputs": [
    {
     "data": {
      "text/plain": [
       "Year\n",
       "2011    4531.07\n",
       "2012    5024.88\n",
       "2013    5282.71\n",
       "2014    5402.28\n",
       "2015    5607.08\n",
       "2016    6141.22\n",
       "2017    6326.00\n",
       "2018    6747.11\n",
       "Name: OvertimePay, dtype: float64"
      ]
     },
     "execution_count": 788,
     "metadata": {},
     "output_type": "execute_result"
    }
   ],
   "source": [
    "# What is the average Overtime Pay for each year?\n",
    "sf_data.groupby(\"Year\").mean()[\"OvertimePay\"].round(2)"
   ]
  },
  {
   "cell_type": "code",
   "execution_count": 789,
   "id": "dbff6031",
   "metadata": {},
   "outputs": [
    {
     "data": {
      "text/plain": [
       "[Text(0.5, 1.0, 'Average OvertimePay for each year')]"
      ]
     },
     "execution_count": 789,
     "metadata": {},
     "output_type": "execute_result"
    },
    {
     "data": {
      "image/png": "[encoded data removed]",
      "text/plain": [
       "<Figure size 432x288 with 1 Axes>"
      ]
     },
     "metadata": {
      "needs_background": "light"
     },
     "output_type": "display_data"
    }
   ],
   "source": [
    "sns.barplot(data = sf_data, x = \"Year\", y = \"OvertimePay\").set(title = \"Average OvertimePay for each year\")"
   ]
  },
  {
   "cell_type": "code",
   "execution_count": 790,
   "id": "d28f51c2",
   "metadata": {},
   "outputs": [
    {
     "data": {
      "text/plain": [
       "Year\n",
       "2011    3617.08\n",
       "2012    3654.53\n",
       "2013    3820.93\n",
       "2014    3505.36\n",
       "2015    3125.12\n",
       "2016    3195.64\n",
       "2017    3338.38\n",
       "2018    3487.51\n",
       "Name: OtherPay, dtype: float64"
      ]
     },
     "execution_count": 790,
     "metadata": {},
     "output_type": "execute_result"
    }
   ],
   "source": [
    "# What is the average Other Pay for each year?\n",
    "sf_data.groupby(\"Year\").mean()[\"OtherPay\"].round(2)"
   ]
  },
  {
   "cell_type": "code",
   "execution_count": 791,
   "id": "82a1a0f1",
   "metadata": {},
   "outputs": [
    {
     "data": {
      "text/plain": [
       "[Text(0.5, 1.0, 'Average OtherPay for each year')]"
      ]
     },
     "execution_count": 791,
     "metadata": {},
     "output_type": "execute_result"
    },
    {
     "data": {
      "image/png": "[encoded data removed]",
      "text/plain": [
       "<Figure size 432x288 with 1 Axes>"
      ]
     },
     "metadata": {
      "needs_background": "light"
     },
     "output_type": "display_data"
    }
   ],
   "source": [
    "sns.barplot(data = sf_data, x = \"Year\", y = \"OtherPay\").set(title = \"Average OtherPay for each year\")"
   ]
  },
  {
   "cell_type": "code",
   "execution_count": 792,
   "id": "e90bea95",
   "metadata": {},
   "outputs": [
    {
     "data": {
      "text/plain": [
       "Year\n",
       "2011        0.00\n",
       "2012    26447.88\n",
       "2013    23831.05\n",
       "2014    24790.90\n",
       "2015    24218.26\n",
       "2016    24085.89\n",
       "2017    25440.14\n",
       "2018    26293.05\n",
       "Name: Benefits, dtype: float64"
      ]
     },
     "execution_count": 792,
     "metadata": {},
     "output_type": "execute_result"
    }
   ],
   "source": [
    "# What is the average Benefits for each year?\n",
    "sf_data.groupby(\"Year\").mean()[\"Benefits\"].round(2)"
   ]
  },
  {
   "cell_type": "code",
   "execution_count": 793,
   "id": "452b8d6e",
   "metadata": {},
   "outputs": [
    {
     "data": {
      "text/plain": [
       "[Text(0.5, 1.0, 'Average Benefits for each year')]"
      ]
     },
     "execution_count": 793,
     "metadata": {},
     "output_type": "execute_result"
    },
    {
     "data": {
      "image/png": "[encoded data removed]",
      "text/plain": [
       "<Figure size 432x288 with 1 Axes>"
      ]
     },
     "metadata": {
      "needs_background": "light"
     },
     "output_type": "display_data"
    }
   ],
   "source": [
    "sns.barplot(data = sf_data, x = \"Year\", y = \"Benefits\").set(title = \"Average Benefits for each year\")"
   ]
  },
  {
   "cell_type": "code",
   "execution_count": 794,
   "id": "c1a1c1d1",
   "metadata": {},
   "outputs": [
    {
     "data": {
      "text/plain": [
       "Year\n",
       "2011    294580.02\n",
       "2012    302578.00\n",
       "2013    319275.01\n",
       "2014    318835.49\n",
       "2015    507831.60\n",
       "2016    527343.14\n",
       "2017    545294.86\n",
       "2018    592394.34\n",
       "Name: BasePay, dtype: float64"
      ]
     },
     "execution_count": 794,
     "metadata": {},
     "output_type": "execute_result"
    }
   ],
   "source": [
    "sf_data.groupby(\"Year\").max()[\"BasePay\"].round(2)"
   ]
  },
  {
   "cell_type": "code",
   "execution_count": 329,
   "id": "f086e200",
   "metadata": {},
   "outputs": [
    {
     "data": {
      "text/plain": [
       "[Text(0.5, 1.0, 'Maximum BasePay per each year')]"
      ]
     },
     "execution_count": 329,
     "metadata": {},
     "output_type": "execute_result"
    },
    {
     "data": {
      "image/png": "[encoded data removed]",
      "text/plain": [
       "<Figure size 432x288 with 1 Axes>"
      ]
     },
     "metadata": {
      "needs_background": "light"
     },
     "output_type": "display_data"
    }
   ],
   "source": [
    "sns.barplot(data = sf_data, x = \"Year\", y = \"BasePay\", estimator = max).set(title = \"Maximum BasePay per each year\")"
   ]
  },
  {
   "cell_type": "code",
   "execution_count": 795,
   "id": "f34b05b6",
   "metadata": {},
   "outputs": [
    {
     "data": {
      "text/plain": [
       "Year\n",
       "2011    2299566191.69\n",
       "2012    2405835895.72\n",
       "2013    2576071030.68\n",
       "2014    2537369199.34\n",
       "2015    2708892157.55\n",
       "2016    2916034633.55\n",
       "2017    3098931365.97\n",
       "2018    3255498671.71\n",
       "Name: BasePay, dtype: object"
      ]
     },
     "execution_count": 795,
     "metadata": {},
     "output_type": "execute_result"
    }
   ],
   "source": [
    "sf_data.groupby(\"Year\").sum()[\"BasePay\"].apply(lambda x: '%.2f' % x)"
   ]
  },
  {
   "cell_type": "code",
   "execution_count": 796,
   "id": "a72ac493",
   "metadata": {},
   "outputs": [
    {
     "data": {
      "text/plain": [
       "[Text(0.5, 1.0, 'Total BasePay per each year (Thousand of millions)')]"
      ]
     },
     "execution_count": 796,
     "metadata": {},
     "output_type": "execute_result"
    },
    {
     "data": {
      "image/png": "[encoded data removed]",
      "text/plain": [
       "<Figure size 432x288 with 1 Axes>"
      ]
     },
     "metadata": {
      "needs_background": "light"
     },
     "output_type": "display_data"
    }
   ],
   "source": [
    "sns.barplot(data = sf_data, x = \"Year\", y = \"BasePay\", estimator = sum).set(title = \"Total BasePay per each year (Thousand of millions)\")"
   ]
  },
  {
   "cell_type": "code",
   "execution_count": 797,
   "id": "4375f4f6",
   "metadata": {},
   "outputs": [
    {
     "data": {
      "text/plain": [
       "Year\n",
       "2011    2594195051.88\n",
       "2012    2724847718.55\n",
       "2013    2918349557.43\n",
       "2014    2876901577.62\n",
       "2015    3052818505.65\n",
       "2016    3298257709.36\n",
       "2017    3500554111.62\n",
       "2018    3688494874.71\n",
       "Name: TotalPay, dtype: object"
      ]
     },
     "execution_count": 797,
     "metadata": {},
     "output_type": "execute_result"
    }
   ],
   "source": [
    "sf_data.groupby(\"Year\").sum()[\"TotalPay\"].apply(lambda x: '%.2f' % x)"
   ]
  },
  {
   "cell_type": "code",
   "execution_count": 798,
   "id": "88208972",
   "metadata": {},
   "outputs": [
    {
     "data": {
      "text/plain": [
       "[Text(0.5, 1.0, 'Total TotalPay per each year (Thousand of millions)')]"
      ]
     },
     "execution_count": 798,
     "metadata": {},
     "output_type": "execute_result"
    },
    {
     "data": {
      "image/png": "[encoded data removed]",
      "text/plain": [
       "<Figure size 432x288 with 1 Axes>"
      ]
     },
     "metadata": {
      "needs_background": "light"
     },
     "output_type": "display_data"
    }
   ],
   "source": [
    "sns.barplot(data = sf_data, x = \"Year\", y = \"TotalPay\", estimator = sum).set(title = \"Total TotalPay per each year (Thousand of millions)\")"
   ]
  },
  {
   "cell_type": "code",
   "execution_count": 799,
   "id": "75269c2a",
   "metadata": {},
   "outputs": [
    {
     "data": {
      "text/plain": [
       "Year\n",
       "2011    163838794.83\n",
       "2012    184689536.64\n",
       "2013    198619147.14\n",
       "2014    205918599.27\n",
       "2015    220840311.85\n",
       "2016    251403088.34\n",
       "2017    262889682.91\n",
       "2018    285449947.93\n",
       "Name: OvertimePay, dtype: object"
      ]
     },
     "execution_count": 799,
     "metadata": {},
     "output_type": "execute_result"
    }
   ],
   "source": [
    "sf_data.groupby(\"Year\").sum()[\"OvertimePay\"].apply(lambda x: '%.2f' % x)"
   ]
  },
  {
   "cell_type": "code",
   "execution_count": 800,
   "id": "59ce16aa",
   "metadata": {},
   "outputs": [
    {
     "data": {
      "text/plain": [
       "[Text(0.5, 1.0, 'Total OvertimePay per each year (Thousand of millions)')]"
      ]
     },
     "execution_count": 800,
     "metadata": {},
     "output_type": "execute_result"
    },
    {
     "data": {
      "image/png": "[encoded data removed]",
      "text/plain": [
       "<Figure size 432x288 with 1 Axes>"
      ]
     },
     "metadata": {
      "needs_background": "light"
     },
     "output_type": "display_data"
    }
   ],
   "source": [
    "sns.barplot(data = sf_data, x = \"Year\", y = \"OvertimePay\", estimator = sum).set(title = \"Total OvertimePay per each year (Thousand of millions)\")"
   ]
  },
  {
   "cell_type": "code",
   "execution_count": 801,
   "id": "0f1a2dce",
   "metadata": {},
   "outputs": [],
   "source": [
    "# Wich year has the maximum mean of BasePay ?"
   ]
  },
  {
   "cell_type": "code",
   "execution_count": 802,
   "id": "8be25cf3",
   "metadata": {},
   "outputs": [
    {
     "data": {
      "text/plain": [
       "76949.40959439853"
      ]
     },
     "execution_count": 802,
     "metadata": {},
     "output_type": "execute_result"
    }
   ],
   "source": [
    "sf_data.groupby(\"Year\").mean()[\"BasePay\"].max()"
   ]
  },
  {
   "cell_type": "code",
   "execution_count": 803,
   "id": "8d3e2458",
   "metadata": {},
   "outputs": [
    {
     "data": {
      "text/plain": [
       "Year\n",
       "2011             0.00\n",
       "2012     972091784.08\n",
       "2013     895999679.37\n",
       "2014     944954843.14\n",
       "2015     953860204.37\n",
       "2016     986028320.06\n",
       "2017    1057215691.85\n",
       "2018    1112380104.82\n",
       "Name: Benefits, dtype: object"
      ]
     },
     "execution_count": 803,
     "metadata": {},
     "output_type": "execute_result"
    }
   ],
   "source": [
    "sf_data.groupby(\"Year\").sum()[\"Benefits\"].apply(lambda x: '%.2f' % x)"
   ]
  },
  {
   "cell_type": "code",
   "execution_count": 804,
   "id": "290c151d",
   "metadata": {},
   "outputs": [
    {
     "data": {
      "text/plain": [
       "[Text(0.5, 1.0, 'Total Benefits per each year (Thousand of millions)')]"
      ]
     },
     "execution_count": 804,
     "metadata": {},
     "output_type": "execute_result"
    },
    {
     "data": {
      "image/png": "[encoded data removed]",
      "text/plain": [
       "<Figure size 432x288 with 1 Axes>"
      ]
     },
     "metadata": {
      "needs_background": "light"
     },
     "output_type": "display_data"
    }
   ],
   "source": [
    "sns.barplot(data = sf_data, x = \"Year\", y = \"Benefits\", estimator = sum).set(title = \"Total Benefits per each year (Thousand of millions)\")"
   ]
  },
  {
   "cell_type": "markdown",
   "id": "2cbfcef0",
   "metadata": {},
   "source": [
    "### Medir cuánto crecen los pay. Analizar la varianza, covarianza, desvío"
   ]
  },
  {
   "cell_type": "markdown",
   "id": "7dec6aa2",
   "metadata": {},
   "source": [
    "# JOBS"
   ]
  },
  {
   "cell_type": "code",
   "execution_count": 805,
   "id": "8f86421a",
   "metadata": {},
   "outputs": [
    {
     "data": {
      "text/plain": [
       "array(['GENERAL MANAGER-METROPOLITAN TRANSIT AUTHORITY',\n",
       "       'CAPTAIN III (POLICE DEPARTMENT)',\n",
       "       'WIRE ROPE CABLE MAINTENANCE MECHANIC', ...,\n",
       "       'Tools Room Mechanic/Custodian', 'Pre-Appren Automotive Mechanic',\n",
       "       'Security-Campus'], dtype=object)"
      ]
     },
     "execution_count": 805,
     "metadata": {},
     "output_type": "execute_result"
    }
   ],
   "source": [
    "# How many unique JobTitle are in the dataset.\n",
    "sf_data[\"JobTitle\"].unique()"
   ]
  },
  {
   "cell_type": "code",
   "execution_count": 806,
   "id": "11f1900a",
   "metadata": {},
   "outputs": [],
   "source": [
    "job_group = sf_data.groupby([\"JobTitle\"])"
   ]
  },
  {
   "cell_type": "code",
   "execution_count": 807,
   "id": "d327c45e",
   "metadata": {},
   "outputs": [
    {
     "data": {
      "text/plain": [
       "Transit Operator    17995\n",
       "Special Nurse       10852\n",
       "Registered Nurse     9249\n",
       "Firefighter          5891\n",
       "Custodian            5758\n",
       "Name: JobTitle, dtype: int64"
      ]
     },
     "execution_count": 807,
     "metadata": {},
     "output_type": "execute_result"
    }
   ],
   "source": [
    "# How many workers are per JobTitle? Top 5 ranking. In the whole dataset.\n",
    "sf_data[\"JobTitle\"].value_counts().head(5)"
   ]
  },
  {
   "cell_type": "markdown",
   "id": "5c96f8e9",
   "metadata": {},
   "source": [
    "### How many unique Job Title are there per year?\n"
   ]
  },
  {
   "cell_type": "code",
   "execution_count": 1331,
   "id": "10578720",
   "metadata": {},
   "outputs": [
    {
     "data": {
      "text/html": [
       "<div>\n",
       "<style scoped>\n",
       "    .dataframe tbody tr th:only-of-type {\n",
       "        vertical-align: middle;\n",
       "    }\n",
       "\n",
       "    .dataframe tbody tr th {\n",
       "        vertical-align: top;\n",
       "    }\n",
       "\n",
       "    .dataframe thead th {\n",
       "        text-align: right;\n",
       "    }\n",
       "</style>\n",
       "<table border=\"1\" class=\"dataframe\">\n",
       "  <thead>\n",
       "    <tr style=\"text-align: right;\">\n",
       "      <th></th>\n",
       "      <th>Year</th>\n",
       "      <th>JobTitle</th>\n",
       "    </tr>\n",
       "  </thead>\n",
       "  <tbody>\n",
       "    <tr>\n",
       "      <th>0</th>\n",
       "      <td>2011</td>\n",
       "      <td>1045</td>\n",
       "    </tr>\n",
       "    <tr>\n",
       "      <th>1</th>\n",
       "      <td>2012</td>\n",
       "      <td>1044</td>\n",
       "    </tr>\n",
       "    <tr>\n",
       "      <th>2</th>\n",
       "      <td>2013</td>\n",
       "      <td>1051</td>\n",
       "    </tr>\n",
       "    <tr>\n",
       "      <th>3</th>\n",
       "      <td>2014</td>\n",
       "      <td>996</td>\n",
       "    </tr>\n",
       "    <tr>\n",
       "      <th>4</th>\n",
       "      <td>2015</td>\n",
       "      <td>1010</td>\n",
       "    </tr>\n",
       "    <tr>\n",
       "      <th>5</th>\n",
       "      <td>2016</td>\n",
       "      <td>1009</td>\n",
       "    </tr>\n",
       "    <tr>\n",
       "      <th>6</th>\n",
       "      <td>2017</td>\n",
       "      <td>1017</td>\n",
       "    </tr>\n",
       "    <tr>\n",
       "      <th>7</th>\n",
       "      <td>2018</td>\n",
       "      <td>1000</td>\n",
       "    </tr>\n",
       "  </tbody>\n",
       "</table>\n",
       "</div>"
      ],
      "text/plain": [
       "   Year  JobTitle\n",
       "0  2011      1045\n",
       "1  2012      1044\n",
       "2  2013      1051\n",
       "3  2014       996\n",
       "4  2015      1010\n",
       "5  2016      1009\n",
       "6  2017      1017\n",
       "7  2018      1000"
      ]
     },
     "execution_count": 1331,
     "metadata": {},
     "output_type": "execute_result"
    }
   ],
   "source": [
    "unique_jobs_year = sf_data.groupby(\"Year\", as_index = False).nunique()[[\"Year\", \"JobTitle\"]]\n",
    "unique_jobs_year"
   ]
  },
  {
   "cell_type": "code",
   "execution_count": 1321,
   "id": "79d7855c",
   "metadata": {},
   "outputs": [
    {
     "data": {
      "text/plain": [
       "[Text(0.5, 1.0, 'Unique job title per year')]"
      ]
     },
     "execution_count": 1321,
     "metadata": {},
     "output_type": "execute_result"
    },
    {
     "data": {
      "image/png": "[encoded data removed]",
      "text/plain": [
       "<Figure size 432x288 with 1 Axes>"
      ]
     },
     "metadata": {
      "needs_background": "light"
     },
     "output_type": "display_data"
    }
   ],
   "source": [
    "sns.barplot(data=unique_jobs_year, x = \"Year\", y = \"JobTitle\").set(title= \"Unique job title per year\")"
   ]
  },
  {
   "cell_type": "markdown",
   "id": "3040f0db",
   "metadata": {},
   "source": [
    "### Cuáles son los trabajos que más crecieron en gente?"
   ]
  },
  {
   "cell_type": "markdown",
   "id": "5ef7438b",
   "metadata": {},
   "source": [
    "### Cuántos trabajadores hubo en cada año?"
   ]
  },
  {
   "cell_type": "code",
   "execution_count": 1314,
   "id": "850dae87",
   "metadata": {},
   "outputs": [
    {
     "data": {
      "text/html": [
       "<div>\n",
       "<style scoped>\n",
       "    .dataframe tbody tr th:only-of-type {\n",
       "        vertical-align: middle;\n",
       "    }\n",
       "\n",
       "    .dataframe tbody tr th {\n",
       "        vertical-align: top;\n",
       "    }\n",
       "\n",
       "    .dataframe thead th {\n",
       "        text-align: right;\n",
       "    }\n",
       "</style>\n",
       "<table border=\"1\" class=\"dataframe\">\n",
       "  <thead>\n",
       "    <tr style=\"text-align: right;\">\n",
       "      <th></th>\n",
       "      <th>Year</th>\n",
       "      <th>JobTitle</th>\n",
       "    </tr>\n",
       "  </thead>\n",
       "  <tbody>\n",
       "    <tr>\n",
       "      <th>0</th>\n",
       "      <td>2011</td>\n",
       "      <td>36159</td>\n",
       "    </tr>\n",
       "    <tr>\n",
       "      <th>1</th>\n",
       "      <td>2012</td>\n",
       "      <td>36755</td>\n",
       "    </tr>\n",
       "    <tr>\n",
       "      <th>2</th>\n",
       "      <td>2013</td>\n",
       "      <td>37598</td>\n",
       "    </tr>\n",
       "    <tr>\n",
       "      <th>3</th>\n",
       "      <td>2014</td>\n",
       "      <td>38117</td>\n",
       "    </tr>\n",
       "    <tr>\n",
       "      <th>4</th>\n",
       "      <td>2015</td>\n",
       "      <td>39386</td>\n",
       "    </tr>\n",
       "    <tr>\n",
       "      <th>5</th>\n",
       "      <td>2016</td>\n",
       "      <td>40938</td>\n",
       "    </tr>\n",
       "    <tr>\n",
       "      <th>6</th>\n",
       "      <td>2017</td>\n",
       "      <td>41557</td>\n",
       "    </tr>\n",
       "    <tr>\n",
       "      <th>7</th>\n",
       "      <td>2018</td>\n",
       "      <td>42307</td>\n",
       "    </tr>\n",
       "  </tbody>\n",
       "</table>\n",
       "</div>"
      ],
      "text/plain": [
       "   Year  JobTitle\n",
       "0  2011     36159\n",
       "1  2012     36755\n",
       "2  2013     37598\n",
       "3  2014     38117\n",
       "4  2015     39386\n",
       "5  2016     40938\n",
       "6  2017     41557\n",
       "7  2018     42307"
      ]
     },
     "execution_count": 1314,
     "metadata": {},
     "output_type": "execute_result"
    }
   ],
   "source": [
    "# Cuántos trabajadores hubo en cada año?\n",
    "workers_year = sf_data.groupby(\"Year\", as_index = False)[[\"JobTitle\"]].count()[[\"Year\", \"JobTitle\"]]\n",
    "workers_year"
   ]
  },
  {
   "cell_type": "code",
   "execution_count": 1322,
   "id": "4ea3b1f8",
   "metadata": {},
   "outputs": [
    {
     "data": {
      "text/plain": [
       "[Text(0.5, 1.0, 'Total workers number per year')]"
      ]
     },
     "execution_count": 1322,
     "metadata": {},
     "output_type": "execute_result"
    },
    {
     "data": {
      "image/png": "[encoded data removed]",
      "text/plain": [
       "<Figure size 432x288 with 1 Axes>"
      ]
     },
     "metadata": {
      "needs_background": "light"
     },
     "output_type": "display_data"
    }
   ],
   "source": [
    "sns.barplot(data=workers_year, x = \"Year\", y = \"JobTitle\").set(title=\"Total workers number per year\")\n"
   ]
  },
  {
   "cell_type": "markdown",
   "id": "7c7f447b",
   "metadata": {},
   "source": [
    "## JOBS & PAY FOR 2015/16/17/18\n",
    "\n",
    "###### Análisis por año de los trabajos. Se analiza media del pago base, cantidad de trabajadores.\n",
    "###### Se pueden aplicar medidas estadísticas para la variabilidad y otros."
   ]
  },
  {
   "cell_type": "code",
   "execution_count": 812,
   "id": "57620f07",
   "metadata": {},
   "outputs": [],
   "source": [
    "# First, let's do a year filter\n",
    "year_group = sf_data.groupby([\"Year\"])"
   ]
  },
  {
   "cell_type": "markdown",
   "id": "d83fe2c4",
   "metadata": {},
   "source": [
    "# JOBS 2015"
   ]
  },
  {
   "cell_type": "code",
   "execution_count": 827,
   "id": "8ab70277",
   "metadata": {},
   "outputs": [
    {
     "data": {
      "text/html": [
       "<div>\n",
       "<style scoped>\n",
       "    .dataframe tbody tr th:only-of-type {\n",
       "        vertical-align: middle;\n",
       "    }\n",
       "\n",
       "    .dataframe tbody tr th {\n",
       "        vertical-align: top;\n",
       "    }\n",
       "\n",
       "    .dataframe thead th {\n",
       "        text-align: right;\n",
       "    }\n",
       "</style>\n",
       "<table border=\"1\" class=\"dataframe\">\n",
       "  <thead>\n",
       "    <tr style=\"text-align: right;\">\n",
       "      <th></th>\n",
       "      <th>EmployeeName</th>\n",
       "      <th>JobTitle</th>\n",
       "      <th>BasePay</th>\n",
       "      <th>OvertimePay</th>\n",
       "      <th>OtherPay</th>\n",
       "      <th>Benefits</th>\n",
       "      <th>TotalPay</th>\n",
       "      <th>TotalPayBenefits</th>\n",
       "      <th>Year</th>\n",
       "    </tr>\n",
       "  </thead>\n",
       "  <tbody>\n",
       "    <tr>\n",
       "      <th>148650</th>\n",
       "      <td>William J Coaker Jr.</td>\n",
       "      <td>Chief Investment Officer</td>\n",
       "      <td>507831.60</td>\n",
       "      <td>0.00</td>\n",
       "      <td>0.00</td>\n",
       "      <td>125891.73</td>\n",
       "      <td>507831.60</td>\n",
       "      <td>633723.33</td>\n",
       "      <td>2015</td>\n",
       "    </tr>\n",
       "    <tr>\n",
       "      <th>148651</th>\n",
       "      <td>Ellen G Moffatt</td>\n",
       "      <td>Asst Med Examiner</td>\n",
       "      <td>279311.10</td>\n",
       "      <td>3829.36</td>\n",
       "      <td>114433.58</td>\n",
       "      <td>72446.93</td>\n",
       "      <td>397574.04</td>\n",
       "      <td>470020.97</td>\n",
       "      <td>2015</td>\n",
       "    </tr>\n",
       "    <tr>\n",
       "      <th>148652</th>\n",
       "      <td>Amy P Hart</td>\n",
       "      <td>Asst Med Examiner</td>\n",
       "      <td>279311.03</td>\n",
       "      <td>9046.92</td>\n",
       "      <td>56742.56</td>\n",
       "      <td>75784.61</td>\n",
       "      <td>345100.51</td>\n",
       "      <td>420885.12</td>\n",
       "      <td>2015</td>\n",
       "    </tr>\n",
       "    <tr>\n",
       "      <th>148653</th>\n",
       "      <td>Gregory P Suhr</td>\n",
       "      <td>Chief of Police</td>\n",
       "      <td>308901.44</td>\n",
       "      <td>0.00</td>\n",
       "      <td>19354.12</td>\n",
       "      <td>82682.53</td>\n",
       "      <td>328255.56</td>\n",
       "      <td>410938.09</td>\n",
       "      <td>2015</td>\n",
       "    </tr>\n",
       "    <tr>\n",
       "      <th>148654</th>\n",
       "      <td>Joanne M Hayes-White</td>\n",
       "      <td>Chief, Fire Department</td>\n",
       "      <td>303494.81</td>\n",
       "      <td>0.00</td>\n",
       "      <td>24279.58</td>\n",
       "      <td>82294.94</td>\n",
       "      <td>327774.39</td>\n",
       "      <td>410069.33</td>\n",
       "      <td>2015</td>\n",
       "    </tr>\n",
       "    <tr>\n",
       "      <th>...</th>\n",
       "      <td>...</td>\n",
       "      <td>...</td>\n",
       "      <td>...</td>\n",
       "      <td>...</td>\n",
       "      <td>...</td>\n",
       "      <td>...</td>\n",
       "      <td>...</td>\n",
       "      <td>...</td>\n",
       "      <td>...</td>\n",
       "    </tr>\n",
       "    <tr>\n",
       "      <th>188031</th>\n",
       "      <td>Anau K Pulete</td>\n",
       "      <td>Clerk</td>\n",
       "      <td>0.00</td>\n",
       "      <td>0.00</td>\n",
       "      <td>0.00</td>\n",
       "      <td>1.85</td>\n",
       "      <td>0.00</td>\n",
       "      <td>1.85</td>\n",
       "      <td>2015</td>\n",
       "    </tr>\n",
       "    <tr>\n",
       "      <th>188032</th>\n",
       "      <td>Jean M Gorecki</td>\n",
       "      <td>Park Patrol Officer</td>\n",
       "      <td>0.00</td>\n",
       "      <td>0.00</td>\n",
       "      <td>0.00</td>\n",
       "      <td>0.00</td>\n",
       "      <td>0.00</td>\n",
       "      <td>0.00</td>\n",
       "      <td>2015</td>\n",
       "    </tr>\n",
       "    <tr>\n",
       "      <th>188033</th>\n",
       "      <td>Rosa L Robinson</td>\n",
       "      <td>Assistant Recreation Director</td>\n",
       "      <td>0.00</td>\n",
       "      <td>0.00</td>\n",
       "      <td>0.00</td>\n",
       "      <td>0.00</td>\n",
       "      <td>0.00</td>\n",
       "      <td>0.00</td>\n",
       "      <td>2015</td>\n",
       "    </tr>\n",
       "    <tr>\n",
       "      <th>188034</th>\n",
       "      <td>Neekol Baskin</td>\n",
       "      <td>Senior Clerk</td>\n",
       "      <td>0.00</td>\n",
       "      <td>0.00</td>\n",
       "      <td>0.00</td>\n",
       "      <td>0.00</td>\n",
       "      <td>0.00</td>\n",
       "      <td>0.00</td>\n",
       "      <td>2015</td>\n",
       "    </tr>\n",
       "    <tr>\n",
       "      <th>188035</th>\n",
       "      <td>Mario D Johnson</td>\n",
       "      <td>PS Aide to Prof</td>\n",
       "      <td>0.00</td>\n",
       "      <td>0.00</td>\n",
       "      <td>0.00</td>\n",
       "      <td>0.00</td>\n",
       "      <td>0.00</td>\n",
       "      <td>0.00</td>\n",
       "      <td>2015</td>\n",
       "    </tr>\n",
       "  </tbody>\n",
       "</table>\n",
       "<p>39386 rows × 9 columns</p>\n",
       "</div>"
      ],
      "text/plain": [
       "                EmployeeName                       JobTitle    BasePay  \\\n",
       "148650  William J Coaker Jr.       Chief Investment Officer  507831.60   \n",
       "148651       Ellen G Moffatt              Asst Med Examiner  279311.10   \n",
       "148652            Amy P Hart              Asst Med Examiner  279311.03   \n",
       "148653        Gregory P Suhr                Chief of Police  308901.44   \n",
       "148654  Joanne M Hayes-White         Chief, Fire Department  303494.81   \n",
       "...                      ...                            ...        ...   \n",
       "188031         Anau K Pulete                          Clerk       0.00   \n",
       "188032        Jean M Gorecki            Park Patrol Officer       0.00   \n",
       "188033       Rosa L Robinson  Assistant Recreation Director       0.00   \n",
       "188034         Neekol Baskin                   Senior Clerk       0.00   \n",
       "188035       Mario D Johnson                PS Aide to Prof       0.00   \n",
       "\n",
       "        OvertimePay   OtherPay   Benefits   TotalPay  TotalPayBenefits  Year  \n",
       "148650         0.00       0.00  125891.73  507831.60         633723.33  2015  \n",
       "148651      3829.36  114433.58   72446.93  397574.04         470020.97  2015  \n",
       "148652      9046.92   56742.56   75784.61  345100.51         420885.12  2015  \n",
       "148653         0.00   19354.12   82682.53  328255.56         410938.09  2015  \n",
       "148654         0.00   24279.58   82294.94  327774.39         410069.33  2015  \n",
       "...             ...        ...        ...        ...               ...   ...  \n",
       "188031         0.00       0.00       1.85       0.00              1.85  2015  \n",
       "188032         0.00       0.00       0.00       0.00              0.00  2015  \n",
       "188033         0.00       0.00       0.00       0.00              0.00  2015  \n",
       "188034         0.00       0.00       0.00       0.00              0.00  2015  \n",
       "188035         0.00       0.00       0.00       0.00              0.00  2015  \n",
       "\n",
       "[39386 rows x 9 columns]"
      ]
     },
     "execution_count": 827,
     "metadata": {},
     "output_type": "execute_result"
    }
   ],
   "source": [
    "year_group.get_group(2015)"
   ]
  },
  {
   "cell_type": "code",
   "execution_count": 844,
   "id": "fe958292",
   "metadata": {},
   "outputs": [],
   "source": [
    "filt = sf_data[\"Year\"] == 2015"
   ]
  },
  {
   "cell_type": "code",
   "execution_count": 1045,
   "id": "040ec34b",
   "metadata": {},
   "outputs": [
    {
     "data": {
      "text/html": [
       "<div>\n",
       "<style scoped>\n",
       "    .dataframe tbody tr th:only-of-type {\n",
       "        vertical-align: middle;\n",
       "    }\n",
       "\n",
       "    .dataframe tbody tr th {\n",
       "        vertical-align: top;\n",
       "    }\n",
       "\n",
       "    .dataframe thead th {\n",
       "        text-align: right;\n",
       "    }\n",
       "</style>\n",
       "<table border=\"1\" class=\"dataframe\">\n",
       "  <thead>\n",
       "    <tr style=\"text-align: right;\">\n",
       "      <th></th>\n",
       "      <th>JobTitle</th>\n",
       "    </tr>\n",
       "  </thead>\n",
       "  <tbody>\n",
       "    <tr>\n",
       "      <th>Transit Operator</th>\n",
       "      <td>2737</td>\n",
       "    </tr>\n",
       "    <tr>\n",
       "      <th>Special Nurse</th>\n",
       "      <td>1522</td>\n",
       "    </tr>\n",
       "    <tr>\n",
       "      <th>Registered Nurse</th>\n",
       "      <td>1304</td>\n",
       "    </tr>\n",
       "    <tr>\n",
       "      <th>Public Service Trainee</th>\n",
       "      <td>815</td>\n",
       "    </tr>\n",
       "    <tr>\n",
       "      <th>Custodian</th>\n",
       "      <td>805</td>\n",
       "    </tr>\n",
       "    <tr>\n",
       "      <th>...</th>\n",
       "      <td>...</td>\n",
       "    </tr>\n",
       "    <tr>\n",
       "      <th>Senior Social Worker</th>\n",
       "      <td>1</td>\n",
       "    </tr>\n",
       "    <tr>\n",
       "      <th>Board Scty, MTA</th>\n",
       "      <td>1</td>\n",
       "    </tr>\n",
       "    <tr>\n",
       "      <th>Graphics Supervisor</th>\n",
       "      <td>1</td>\n",
       "    </tr>\n",
       "    <tr>\n",
       "      <th>Employment &amp; Training Spec 6</th>\n",
       "      <td>1</td>\n",
       "    </tr>\n",
       "    <tr>\n",
       "      <th>Secretary, Library Commission</th>\n",
       "      <td>1</td>\n",
       "    </tr>\n",
       "  </tbody>\n",
       "</table>\n",
       "<p>1010 rows × 1 columns</p>\n",
       "</div>"
      ],
      "text/plain": [
       "                               JobTitle\n",
       "Transit Operator                   2737\n",
       "Special Nurse                      1522\n",
       "Registered Nurse                   1304\n",
       "Public Service Trainee              815\n",
       "Custodian                           805\n",
       "...                                 ...\n",
       "Senior Social Worker                  1\n",
       "Board Scty, MTA                       1\n",
       "Graphics Supervisor                   1\n",
       "Employment & Training Spec 6          1\n",
       "Secretary, Library Commission         1\n",
       "\n",
       "[1010 rows x 1 columns]"
      ]
     },
     "execution_count": 1045,
     "metadata": {},
     "output_type": "execute_result"
    }
   ],
   "source": [
    "# Cantidad de trabajadores para cada puesto, por año.\n",
    "df_2015 = sf_data.loc[filt][\"JobTitle\"].value_counts()\n",
    "df_2015 = df_2015.to_frame()\n",
    "df_2015.fillna(0)"
   ]
  },
  {
   "cell_type": "code",
   "execution_count": null,
   "id": "0a886e1c",
   "metadata": {},
   "outputs": [],
   "source": []
  },
  {
   "cell_type": "markdown",
   "id": "0159bc2b",
   "metadata": {},
   "source": [
    "# JOBS 2016"
   ]
  },
  {
   "cell_type": "code",
   "execution_count": 851,
   "id": "e53f7f57",
   "metadata": {},
   "outputs": [
    {
     "data": {
      "text/plain": [
       "(1009, 1)"
      ]
     },
     "execution_count": 851,
     "metadata": {},
     "output_type": "execute_result"
    }
   ],
   "source": [
    "filt = sf_data[\"Year\"] == 2016\n",
    "# Cantidad de trabajadores para cada puesto, por año.\n",
    "df_2016 = sf_data.loc[filt][\"JobTitle\"].value_counts()\n",
    "df_2016 = df_2016.to_frame()\n",
    "df_2016.fillna(0)\n",
    "df_2016.shape"
   ]
  },
  {
   "cell_type": "code",
   "execution_count": null,
   "id": "cf63266f",
   "metadata": {},
   "outputs": [],
   "source": []
  },
  {
   "cell_type": "code",
   "execution_count": null,
   "id": "099ac166",
   "metadata": {},
   "outputs": [],
   "source": []
  },
  {
   "cell_type": "markdown",
   "id": "8e8f09c1",
   "metadata": {},
   "source": [
    "# JOBS 2017"
   ]
  },
  {
   "cell_type": "code",
   "execution_count": 852,
   "id": "a399799e",
   "metadata": {},
   "outputs": [
    {
     "data": {
      "text/plain": [
       "(1017, 1)"
      ]
     },
     "execution_count": 852,
     "metadata": {},
     "output_type": "execute_result"
    }
   ],
   "source": [
    "filt = sf_data[\"Year\"] == 2017\n",
    "# Cantidad de trabajadores para cada puesto, por año.\n",
    "df_2017 = sf_data.loc[filt][\"JobTitle\"].value_counts()\n",
    "df_2017 = df_2017.to_frame()\n",
    "df_2017.fillna(0)\n",
    "df_2017.shape"
   ]
  },
  {
   "cell_type": "markdown",
   "id": "dedc9f26",
   "metadata": {},
   "source": [
    "# JOBS 2018"
   ]
  },
  {
   "cell_type": "code",
   "execution_count": 1239,
   "id": "0458b5d3",
   "metadata": {},
   "outputs": [
    {
     "data": {
      "text/plain": [
       "Transit Operator                 2741\n",
       "Special Nurse                    1633\n",
       "Registered Nurse                 1445\n",
       "Firefighter                       914\n",
       "Public Service Trainee            873\n",
       "                                 ... \n",
       "Orthopedic Technician 1             1\n",
       "Head Airport Electrician            1\n",
       "Secretary, Library Commission       1\n",
       "Gen Mgr, Public Trnsp Dept          1\n",
       "Claims Process Clerk                1\n",
       "Name: JobTitle, Length: 1000, dtype: int64"
      ]
     },
     "execution_count": 1239,
     "metadata": {},
     "output_type": "execute_result"
    }
   ],
   "source": [
    "year_group = sf_data.groupby([\"Year\"])\n",
    "year_group.get_group(2015)\n",
    "filt = sf_data[\"Year\"] == 2018\n",
    "# Cantidad de trabajadores para cada puesto, por año.\n",
    "df_2018 = sf_data.loc[filt][\"JobTitle\"].value_counts()\n",
    "\n",
    "df_2018.fillna(0)\n",
    "#df_2018.groupby(\"JobTitle\", as_index=False)[\"JobTitle\"].value_counts()\n",
    "#df_2018 = df_2018.to_frame()"
   ]
  },
  {
   "cell_type": "code",
   "execution_count": 1305,
   "id": "38d3aac3",
   "metadata": {},
   "outputs": [
    {
     "data": {
      "text/html": [
       "<div>\n",
       "<style scoped>\n",
       "    .dataframe tbody tr th:only-of-type {\n",
       "        vertical-align: middle;\n",
       "    }\n",
       "\n",
       "    .dataframe tbody tr th {\n",
       "        vertical-align: top;\n",
       "    }\n",
       "\n",
       "    .dataframe thead th {\n",
       "        text-align: right;\n",
       "    }\n",
       "</style>\n",
       "<table border=\"1\" class=\"dataframe\">\n",
       "  <thead>\n",
       "    <tr style=\"text-align: right;\">\n",
       "      <th></th>\n",
       "      <th>JobTitle</th>\n",
       "    </tr>\n",
       "    <tr>\n",
       "      <th>JobTitle</th>\n",
       "      <th></th>\n",
       "    </tr>\n",
       "  </thead>\n",
       "  <tbody>\n",
       "    <tr>\n",
       "      <th>Transit Operator</th>\n",
       "      <td>2741</td>\n",
       "    </tr>\n",
       "    <tr>\n",
       "      <th>Special Nurse</th>\n",
       "      <td>1633</td>\n",
       "    </tr>\n",
       "    <tr>\n",
       "      <th>Registered Nurse</th>\n",
       "      <td>1445</td>\n",
       "    </tr>\n",
       "    <tr>\n",
       "      <th>Firefighter</th>\n",
       "      <td>914</td>\n",
       "    </tr>\n",
       "    <tr>\n",
       "      <th>Public Service Trainee</th>\n",
       "      <td>873</td>\n",
       "    </tr>\n",
       "    <tr>\n",
       "      <th>Custodian</th>\n",
       "      <td>854</td>\n",
       "    </tr>\n",
       "    <tr>\n",
       "      <th>Police Officer 3</th>\n",
       "      <td>811</td>\n",
       "    </tr>\n",
       "    <tr>\n",
       "      <th>Recreation Leader</th>\n",
       "      <td>762</td>\n",
       "    </tr>\n",
       "    <tr>\n",
       "      <th>Police Officer</th>\n",
       "      <td>679</td>\n",
       "    </tr>\n",
       "    <tr>\n",
       "      <th>HSA Sr Eligibility Worker</th>\n",
       "      <td>543</td>\n",
       "    </tr>\n",
       "  </tbody>\n",
       "</table>\n",
       "</div>"
      ],
      "text/plain": [
       "                           JobTitle\n",
       "JobTitle                           \n",
       "Transit Operator               2741\n",
       "Special Nurse                  1633\n",
       "Registered Nurse               1445\n",
       "Firefighter                     914\n",
       "Public Service Trainee          873\n",
       "Custodian                       854\n",
       "Police Officer 3                811\n",
       "Recreation Leader               762\n",
       "Police Officer                  679\n",
       "HSA Sr Eligibility Worker       543"
      ]
     },
     "execution_count": 1305,
     "metadata": {},
     "output_type": "execute_result"
    }
   ],
   "source": [
    "data18 = year_group[\"JobTitle\"].value_counts().loc[2018]\n",
    "data18 = data18.to_frame()\n",
    "data18 = data18.head(10)\n",
    "data18"
   ]
  },
  {
   "cell_type": "code",
   "execution_count": 1259,
   "id": "57cf05ba",
   "metadata": {},
   "outputs": [
    {
     "data": {
      "text/plain": [
       "<AxesSubplot:xlabel='JobTitle', ylabel='JobTitle'>"
      ]
     },
     "execution_count": 1259,
     "metadata": {},
     "output_type": "execute_result"
    },
    {
     "data": {
      "image/png": "[encoded data removed]",
      "text/plain": [
       "<Figure size 432x288 with 1 Axes>"
      ]
     },
     "metadata": {
      "needs_background": "light"
     },
     "output_type": "display_data"
    }
   ],
   "source": [
    "sns.barplot(data=data18, x = \"JobTitle\", y = \"JobTitle\")"
   ]
  },
  {
   "cell_type": "code",
   "execution_count": null,
   "id": "b61c504c",
   "metadata": {},
   "outputs": [],
   "source": []
  },
  {
   "cell_type": "markdown",
   "id": "e71fae0a",
   "metadata": {},
   "source": [
    "# COMPARACIÓN DE TODOS LOS JOBS"
   ]
  },
  {
   "cell_type": "code",
   "execution_count": 1303,
   "id": "f7275f19",
   "metadata": {},
   "outputs": [
    {
     "data": {
      "text/html": [
       "<div>\n",
       "<style scoped>\n",
       "    .dataframe tbody tr th:only-of-type {\n",
       "        vertical-align: middle;\n",
       "    }\n",
       "\n",
       "    .dataframe tbody tr th {\n",
       "        vertical-align: top;\n",
       "    }\n",
       "\n",
       "    .dataframe thead th {\n",
       "        text-align: right;\n",
       "    }\n",
       "</style>\n",
       "<table border=\"1\" class=\"dataframe\">\n",
       "  <thead>\n",
       "    <tr style=\"text-align: right;\">\n",
       "      <th></th>\n",
       "      <th>2015</th>\n",
       "      <th>2016</th>\n",
       "      <th>2017</th>\n",
       "      <th>2018</th>\n",
       "    </tr>\n",
       "  </thead>\n",
       "  <tbody>\n",
       "    <tr>\n",
       "      <th>Transit Operator</th>\n",
       "      <td>2737.0</td>\n",
       "      <td>2761.0</td>\n",
       "      <td>2720.0</td>\n",
       "      <td>2741.0</td>\n",
       "    </tr>\n",
       "    <tr>\n",
       "      <th>Special Nurse</th>\n",
       "      <td>1522.0</td>\n",
       "      <td>1643.0</td>\n",
       "      <td>1666.0</td>\n",
       "      <td>1633.0</td>\n",
       "    </tr>\n",
       "    <tr>\n",
       "      <th>Registered Nurse</th>\n",
       "      <td>1304.0</td>\n",
       "      <td>1360.0</td>\n",
       "      <td>1404.0</td>\n",
       "      <td>1445.0</td>\n",
       "    </tr>\n",
       "    <tr>\n",
       "      <th>Public Service Trainee</th>\n",
       "      <td>815.0</td>\n",
       "      <td>906.0</td>\n",
       "      <td>1006.0</td>\n",
       "      <td>873.0</td>\n",
       "    </tr>\n",
       "    <tr>\n",
       "      <th>Custodian</th>\n",
       "      <td>805.0</td>\n",
       "      <td>831.0</td>\n",
       "      <td>850.0</td>\n",
       "      <td>854.0</td>\n",
       "    </tr>\n",
       "    <tr>\n",
       "      <th>...</th>\n",
       "      <td>...</td>\n",
       "      <td>...</td>\n",
       "      <td>...</td>\n",
       "      <td>...</td>\n",
       "    </tr>\n",
       "    <tr>\n",
       "      <th>Metal Fabricator</th>\n",
       "      <td>0.0</td>\n",
       "      <td>0.0</td>\n",
       "      <td>0.0</td>\n",
       "      <td>1.0</td>\n",
       "    </tr>\n",
       "    <tr>\n",
       "      <th>Veterans Claims Rep Supervisor</th>\n",
       "      <td>0.0</td>\n",
       "      <td>0.0</td>\n",
       "      <td>0.0</td>\n",
       "      <td>1.0</td>\n",
       "    </tr>\n",
       "    <tr>\n",
       "      <th>Assistant Sheriff</th>\n",
       "      <td>0.0</td>\n",
       "      <td>0.0</td>\n",
       "      <td>0.0</td>\n",
       "      <td>1.0</td>\n",
       "    </tr>\n",
       "    <tr>\n",
       "      <th>Glazier Supervisor 1</th>\n",
       "      <td>0.0</td>\n",
       "      <td>0.0</td>\n",
       "      <td>0.0</td>\n",
       "      <td>1.0</td>\n",
       "    </tr>\n",
       "    <tr>\n",
       "      <th>Lieut,Fire Invstgtn</th>\n",
       "      <td>0.0</td>\n",
       "      <td>0.0</td>\n",
       "      <td>0.0</td>\n",
       "      <td>1.0</td>\n",
       "    </tr>\n",
       "  </tbody>\n",
       "</table>\n",
       "<p>1116 rows × 4 columns</p>\n",
       "</div>"
      ],
      "text/plain": [
       "                                  2015    2016    2017    2018\n",
       "Transit Operator                2737.0  2761.0  2720.0  2741.0\n",
       "Special Nurse                   1522.0  1643.0  1666.0  1633.0\n",
       "Registered Nurse                1304.0  1360.0  1404.0  1445.0\n",
       "Public Service Trainee           815.0   906.0  1006.0   873.0\n",
       "Custodian                        805.0   831.0   850.0   854.0\n",
       "...                                ...     ...     ...     ...\n",
       "Metal Fabricator                   0.0     0.0     0.0     1.0\n",
       "Veterans Claims Rep Supervisor     0.0     0.0     0.0     1.0\n",
       "Assistant Sheriff                  0.0     0.0     0.0     1.0\n",
       "Glazier Supervisor 1               0.0     0.0     0.0     1.0\n",
       "Lieut,Fire Invstgtn                0.0     0.0     0.0     1.0\n",
       "\n",
       "[1116 rows x 4 columns]"
      ]
     },
     "execution_count": 1303,
     "metadata": {},
     "output_type": "execute_result"
    }
   ],
   "source": [
    "data_jobs = pd.concat([df_2015, df_2016, df_2017, df_2018], axis = 1)\n",
    "data_jobs.columns = [\"2015\", \"2016\", \"2017\", \"2018\"]\n",
    "data_jobs.fillna(0)"
   ]
  },
  {
   "cell_type": "markdown",
   "id": "8ee47612",
   "metadata": {},
   "source": [
    "# GRAFICAR JOBS COMPARATIVA"
   ]
  },
  {
   "cell_type": "code",
   "execution_count": null,
   "id": "54915d76",
   "metadata": {},
   "outputs": [],
   "source": []
  },
  {
   "cell_type": "code",
   "execution_count": null,
   "id": "032cb00a",
   "metadata": {},
   "outputs": [],
   "source": []
  },
  {
   "cell_type": "markdown",
   "id": "5dce4510",
   "metadata": {},
   "source": [
    "# PAYROLL ANALYSIS"
   ]
  },
  {
   "cell_type": "markdown",
   "id": "4853b438",
   "metadata": {},
   "source": [
    "### Cuál es el promedio de BasePay para cada categoría de trabajo por año?\n"
   ]
  },
  {
   "cell_type": "markdown",
   "id": "1d5d70c7",
   "metadata": {},
   "source": [
    "#### PAYROLL 2015"
   ]
  },
  {
   "cell_type": "code",
   "execution_count": 1295,
   "id": "5eb0ad87",
   "metadata": {},
   "outputs": [
    {
     "data": {
      "text/html": [
       "<div>\n",
       "<style scoped>\n",
       "    .dataframe tbody tr th:only-of-type {\n",
       "        vertical-align: middle;\n",
       "    }\n",
       "\n",
       "    .dataframe tbody tr th {\n",
       "        vertical-align: top;\n",
       "    }\n",
       "\n",
       "    .dataframe thead th {\n",
       "        text-align: right;\n",
       "    }\n",
       "</style>\n",
       "<table border=\"1\" class=\"dataframe\">\n",
       "  <thead>\n",
       "    <tr style=\"text-align: right;\">\n",
       "      <th></th>\n",
       "      <th>JobTitle</th>\n",
       "      <th>BasePay</th>\n",
       "    </tr>\n",
       "  </thead>\n",
       "  <tbody>\n",
       "    <tr>\n",
       "      <th>0</th>\n",
       "      <td>ACPO,JuvP, Juv Prob (SFERS)</td>\n",
       "      <td>153727.420000</td>\n",
       "    </tr>\n",
       "    <tr>\n",
       "      <th>1</th>\n",
       "      <td>ASR Senior Office Specialist</td>\n",
       "      <td>65518.273000</td>\n",
       "    </tr>\n",
       "    <tr>\n",
       "      <th>2</th>\n",
       "      <td>ASR-Office Assistant</td>\n",
       "      <td>36399.112353</td>\n",
       "    </tr>\n",
       "    <tr>\n",
       "      <th>3</th>\n",
       "      <td>Account Clerk</td>\n",
       "      <td>42716.976543</td>\n",
       "    </tr>\n",
       "    <tr>\n",
       "      <th>4</th>\n",
       "      <td>Accountant I</td>\n",
       "      <td>73250.000000</td>\n",
       "    </tr>\n",
       "    <tr>\n",
       "      <th>5</th>\n",
       "      <td>Accountant II</td>\n",
       "      <td>68350.848500</td>\n",
       "    </tr>\n",
       "    <tr>\n",
       "      <th>6</th>\n",
       "      <td>Accountant II (OCII)</td>\n",
       "      <td>65710.030000</td>\n",
       "    </tr>\n",
       "    <tr>\n",
       "      <th>7</th>\n",
       "      <td>Accountant III</td>\n",
       "      <td>81890.741513</td>\n",
       "    </tr>\n",
       "    <tr>\n",
       "      <th>8</th>\n",
       "      <td>Accountant III (OCII)</td>\n",
       "      <td>79423.010000</td>\n",
       "    </tr>\n",
       "    <tr>\n",
       "      <th>9</th>\n",
       "      <td>Accountant IV</td>\n",
       "      <td>101112.387656</td>\n",
       "    </tr>\n",
       "  </tbody>\n",
       "</table>\n",
       "</div>"
      ],
      "text/plain": [
       "                       JobTitle        BasePay\n",
       "0   ACPO,JuvP, Juv Prob (SFERS)  153727.420000\n",
       "1  ASR Senior Office Specialist   65518.273000\n",
       "2          ASR-Office Assistant   36399.112353\n",
       "3                 Account Clerk   42716.976543\n",
       "4                  Accountant I   73250.000000\n",
       "5                 Accountant II   68350.848500\n",
       "6          Accountant II (OCII)   65710.030000\n",
       "7                Accountant III   81890.741513\n",
       "8         Accountant III (OCII)   79423.010000\n",
       "9                 Accountant IV  101112.387656"
      ]
     },
     "execution_count": 1295,
     "metadata": {},
     "output_type": "execute_result"
    }
   ],
   "source": [
    "pay_2015 = sf_data[(sf_data[\"Year\"] == 2015) & (sf_data[\"JobTitle\"]) & (sf_data[\"BasePay\"])]\n",
    "pay_2015.drop([\"OvertimePay\", \"OtherPay\", \"Benefits\", \"TotalPay\", \"TotalPayBenefits\", \"Year\"], axis = 1)\n",
    "#filt = filt.groupby([\"JobTitle\"])[\"BasePay\"].mean()\n",
    "pay_2015 = pay_2015.groupby(\"JobTitle\", as_index=False)[\"BasePay\"].mean()[[\"JobTitle\", \"BasePay\"]]\n",
    "pay_2015 = pay_2015.head(10)\n",
    "pay_2015"
   ]
  },
  {
   "cell_type": "code",
   "execution_count": 1296,
   "id": "8a0bad3c",
   "metadata": {},
   "outputs": [
    {
     "data": {
      "text/plain": [
       "(array([0, 1, 2, 3, 4, 5, 6, 7, 8, 9]),\n",
       " [Text(0, 0, 'ACPO,JuvP, Juv Prob (SFERS)'),\n",
       "  Text(1, 0, 'ASR Senior Office Specialist'),\n",
       "  Text(2, 0, 'ASR-Office Assistant'),\n",
       "  Text(3, 0, 'Account Clerk'),\n",
       "  Text(4, 0, 'Accountant I'),\n",
       "  Text(5, 0, 'Accountant II'),\n",
       "  Text(6, 0, 'Accountant II (OCII)'),\n",
       "  Text(7, 0, 'Accountant III'),\n",
       "  Text(8, 0, 'Accountant III (OCII)'),\n",
       "  Text(9, 0, 'Accountant IV')])"
      ]
     },
     "execution_count": 1296,
     "metadata": {},
     "output_type": "execute_result"
    },
    {
     "data": {
      "image/png": "[encoded data removed]",
      "text/plain": [
       "<Figure size 432x288 with 1 Axes>"
      ]
     },
     "metadata": {
      "needs_background": "light"
     },
     "output_type": "display_data"
    }
   ],
   "source": [
    "sns.barplot(data=pay_2015, x = \"JobTitle\", y = \"BasePay\").set(title=\"Mean of Base Pay for each Job Title\")\n",
    "plt.xticks(rotation=90) # Agregar detalles de gráfico"
   ]
  },
  {
   "cell_type": "markdown",
   "id": "fc006e3b",
   "metadata": {},
   "source": [
    "#### PAYROLL 2016"
   ]
  },
  {
   "cell_type": "code",
   "execution_count": 1293,
   "id": "0f4e53da",
   "metadata": {},
   "outputs": [
    {
     "data": {
      "text/html": [
       "<div>\n",
       "<style scoped>\n",
       "    .dataframe tbody tr th:only-of-type {\n",
       "        vertical-align: middle;\n",
       "    }\n",
       "\n",
       "    .dataframe tbody tr th {\n",
       "        vertical-align: top;\n",
       "    }\n",
       "\n",
       "    .dataframe thead th {\n",
       "        text-align: right;\n",
       "    }\n",
       "</style>\n",
       "<table border=\"1\" class=\"dataframe\">\n",
       "  <thead>\n",
       "    <tr style=\"text-align: right;\">\n",
       "      <th></th>\n",
       "      <th>JobTitle</th>\n",
       "      <th>BasePay</th>\n",
       "    </tr>\n",
       "  </thead>\n",
       "  <tbody>\n",
       "    <tr>\n",
       "      <th>0</th>\n",
       "      <td>ACPO,JuvP, Juv Prob (SFERS)</td>\n",
       "      <td>168094.740000</td>\n",
       "    </tr>\n",
       "    <tr>\n",
       "      <th>1</th>\n",
       "      <td>ASR Senior Office Specialist</td>\n",
       "      <td>70420.763333</td>\n",
       "    </tr>\n",
       "    <tr>\n",
       "      <th>2</th>\n",
       "      <td>ASR-Office Assistant</td>\n",
       "      <td>36304.869000</td>\n",
       "    </tr>\n",
       "    <tr>\n",
       "      <th>3</th>\n",
       "      <td>Account Clerk</td>\n",
       "      <td>46824.125270</td>\n",
       "    </tr>\n",
       "    <tr>\n",
       "      <th>4</th>\n",
       "      <td>Accountant I</td>\n",
       "      <td>14450.000000</td>\n",
       "    </tr>\n",
       "    <tr>\n",
       "      <th>5</th>\n",
       "      <td>Accountant II</td>\n",
       "      <td>64346.178367</td>\n",
       "    </tr>\n",
       "    <tr>\n",
       "      <th>6</th>\n",
       "      <td>Accountant II (OCII)</td>\n",
       "      <td>84534.310000</td>\n",
       "    </tr>\n",
       "    <tr>\n",
       "      <th>7</th>\n",
       "      <td>Accountant III</td>\n",
       "      <td>84703.131600</td>\n",
       "    </tr>\n",
       "    <tr>\n",
       "      <th>8</th>\n",
       "      <td>Accountant III (OCII)</td>\n",
       "      <td>102274.610000</td>\n",
       "    </tr>\n",
       "    <tr>\n",
       "      <th>9</th>\n",
       "      <td>Accountant IV</td>\n",
       "      <td>106678.216712</td>\n",
       "    </tr>\n",
       "  </tbody>\n",
       "</table>\n",
       "</div>"
      ],
      "text/plain": [
       "                       JobTitle        BasePay\n",
       "0   ACPO,JuvP, Juv Prob (SFERS)  168094.740000\n",
       "1  ASR Senior Office Specialist   70420.763333\n",
       "2          ASR-Office Assistant   36304.869000\n",
       "3                 Account Clerk   46824.125270\n",
       "4                  Accountant I   14450.000000\n",
       "5                 Accountant II   64346.178367\n",
       "6          Accountant II (OCII)   84534.310000\n",
       "7                Accountant III   84703.131600\n",
       "8         Accountant III (OCII)  102274.610000\n",
       "9                 Accountant IV  106678.216712"
      ]
     },
     "execution_count": 1293,
     "metadata": {},
     "output_type": "execute_result"
    }
   ],
   "source": [
    "pay_2016 = sf_data[(sf_data[\"Year\"] == 2016) & (sf_data[\"JobTitle\"]) & (sf_data[\"BasePay\"])]\n",
    "pay_2016.drop([\"OvertimePay\", \"OtherPay\", \"Benefits\", \"TotalPay\", \"TotalPayBenefits\", \"Year\"], axis = 1)\n",
    "#filt = filt.groupby([\"JobTitle\"])[\"BasePay\"].mean()\n",
    "pay_2016 = pay_2016.groupby(\"JobTitle\", as_index=False)[\"BasePay\"].mean()[[\"JobTitle\", \"BasePay\"]]\n",
    "pay_2016 = pay_2016.head(10)\n",
    "pay_2016"
   ]
  },
  {
   "cell_type": "code",
   "execution_count": 1294,
   "id": "f08977bf",
   "metadata": {},
   "outputs": [
    {
     "data": {
      "text/plain": [
       "(array([0, 1, 2, 3, 4, 5, 6, 7, 8, 9]),\n",
       " [Text(0, 0, 'ACPO,JuvP, Juv Prob (SFERS)'),\n",
       "  Text(1, 0, 'ASR Senior Office Specialist'),\n",
       "  Text(2, 0, 'ASR-Office Assistant'),\n",
       "  Text(3, 0, 'Account Clerk'),\n",
       "  Text(4, 0, 'Accountant I'),\n",
       "  Text(5, 0, 'Accountant II'),\n",
       "  Text(6, 0, 'Accountant II (OCII)'),\n",
       "  Text(7, 0, 'Accountant III'),\n",
       "  Text(8, 0, 'Accountant III (OCII)'),\n",
       "  Text(9, 0, 'Accountant IV')])"
      ]
     },
     "execution_count": 1294,
     "metadata": {},
     "output_type": "execute_result"
    },
    {
     "data": {
      "image/png": "[encoded data removed]",
      "text/plain": [
       "<Figure size 432x288 with 1 Axes>"
      ]
     },
     "metadata": {
      "needs_background": "light"
     },
     "output_type": "display_data"
    }
   ],
   "source": [
    "sns.barplot(data=pay_2016, x = \"JobTitle\", y = \"BasePay\").set(title=\"Mean of Base Pay for each Job Title\")\n",
    "plt.xticks(rotation=90) # Agregar detalles de gráfico"
   ]
  },
  {
   "cell_type": "markdown",
   "id": "20a25a3d",
   "metadata": {},
   "source": [
    "#### PAYROLL 2017"
   ]
  },
  {
   "cell_type": "code",
   "execution_count": 1290,
   "id": "4d2dd428",
   "metadata": {},
   "outputs": [
    {
     "data": {
      "text/html": [
       "<div>\n",
       "<style scoped>\n",
       "    .dataframe tbody tr th:only-of-type {\n",
       "        vertical-align: middle;\n",
       "    }\n",
       "\n",
       "    .dataframe tbody tr th {\n",
       "        vertical-align: top;\n",
       "    }\n",
       "\n",
       "    .dataframe thead th {\n",
       "        text-align: right;\n",
       "    }\n",
       "</style>\n",
       "<table border=\"1\" class=\"dataframe\">\n",
       "  <thead>\n",
       "    <tr style=\"text-align: right;\">\n",
       "      <th></th>\n",
       "      <th>JobTitle</th>\n",
       "      <th>BasePay</th>\n",
       "    </tr>\n",
       "  </thead>\n",
       "  <tbody>\n",
       "    <tr>\n",
       "      <th>0</th>\n",
       "      <td>ACPO,JuvP, Juv Prob (SFERS)</td>\n",
       "      <td>180162.030000</td>\n",
       "    </tr>\n",
       "    <tr>\n",
       "      <th>1</th>\n",
       "      <td>ASR Senior Office Specialist</td>\n",
       "      <td>66924.614583</td>\n",
       "    </tr>\n",
       "    <tr>\n",
       "      <th>2</th>\n",
       "      <td>ASR-Office Assistant</td>\n",
       "      <td>33514.958846</td>\n",
       "    </tr>\n",
       "    <tr>\n",
       "      <th>3</th>\n",
       "      <td>Account Clerk</td>\n",
       "      <td>43339.178358</td>\n",
       "    </tr>\n",
       "    <tr>\n",
       "      <th>4</th>\n",
       "      <td>Accountant I</td>\n",
       "      <td>21993.600000</td>\n",
       "    </tr>\n",
       "    <tr>\n",
       "      <th>5</th>\n",
       "      <td>Accountant II</td>\n",
       "      <td>74376.825208</td>\n",
       "    </tr>\n",
       "    <tr>\n",
       "      <th>6</th>\n",
       "      <td>Accountant II (OCII)</td>\n",
       "      <td>58271.540000</td>\n",
       "    </tr>\n",
       "    <tr>\n",
       "      <th>7</th>\n",
       "      <td>Accountant III</td>\n",
       "      <td>91680.767407</td>\n",
       "    </tr>\n",
       "    <tr>\n",
       "      <th>8</th>\n",
       "      <td>Accountant IV</td>\n",
       "      <td>113943.428507</td>\n",
       "    </tr>\n",
       "    <tr>\n",
       "      <th>9</th>\n",
       "      <td>Accountant Intern</td>\n",
       "      <td>41632.735128</td>\n",
       "    </tr>\n",
       "  </tbody>\n",
       "</table>\n",
       "</div>"
      ],
      "text/plain": [
       "                       JobTitle        BasePay\n",
       "0   ACPO,JuvP, Juv Prob (SFERS)  180162.030000\n",
       "1  ASR Senior Office Specialist   66924.614583\n",
       "2          ASR-Office Assistant   33514.958846\n",
       "3                 Account Clerk   43339.178358\n",
       "4                  Accountant I   21993.600000\n",
       "5                 Accountant II   74376.825208\n",
       "6          Accountant II (OCII)   58271.540000\n",
       "7                Accountant III   91680.767407\n",
       "8                 Accountant IV  113943.428507\n",
       "9             Accountant Intern   41632.735128"
      ]
     },
     "execution_count": 1290,
     "metadata": {},
     "output_type": "execute_result"
    }
   ],
   "source": [
    "pay_2017 = sf_data[(sf_data[\"Year\"] == 2017) & (sf_data[\"JobTitle\"]) & (sf_data[\"BasePay\"])]\n",
    "pay_2017.drop([\"OvertimePay\", \"OtherPay\", \"Benefits\", \"TotalPay\", \"TotalPayBenefits\", \"Year\"], axis = 1)\n",
    "#filt = filt.groupby([\"JobTitle\"])[\"BasePay\"].mean()\n",
    "pay_2017 = pay_2017.groupby(\"JobTitle\", as_index=False)[\"BasePay\"].mean()[[\"JobTitle\", \"BasePay\"]]\n",
    "pay_2017 = pay_2017.head(10)\n",
    "pay_2017"
   ]
  },
  {
   "cell_type": "code",
   "execution_count": 1292,
   "id": "82f51d55",
   "metadata": {},
   "outputs": [
    {
     "data": {
      "text/plain": [
       "(array([0, 1, 2, 3, 4, 5, 6, 7, 8, 9]),\n",
       " [Text(0, 0, 'ACPO,JuvP, Juv Prob (SFERS)'),\n",
       "  Text(1, 0, 'ASR Senior Office Specialist'),\n",
       "  Text(2, 0, 'ASR-Office Assistant'),\n",
       "  Text(3, 0, 'Account Clerk'),\n",
       "  Text(4, 0, 'Accountant I'),\n",
       "  Text(5, 0, 'Accountant II'),\n",
       "  Text(6, 0, 'Accountant II (OCII)'),\n",
       "  Text(7, 0, 'Accountant III'),\n",
       "  Text(8, 0, 'Accountant IV'),\n",
       "  Text(9, 0, 'Accountant Intern')])"
      ]
     },
     "execution_count": 1292,
     "metadata": {},
     "output_type": "execute_result"
    },
    {
     "data": {
      "image/png": "[encoded data removed]",
      "text/plain": [
       "<Figure size 432x288 with 1 Axes>"
      ]
     },
     "metadata": {
      "needs_background": "light"
     },
     "output_type": "display_data"
    }
   ],
   "source": [
    "sns.barplot(data=pay_2017, x = \"JobTitle\", y = \"BasePay\").set(title=\"Mean of Base Pay for each Job Title\")\n",
    "plt.xticks(rotation=90) # Agregar detalles de gráfico"
   ]
  },
  {
   "cell_type": "markdown",
   "id": "44bab449",
   "metadata": {},
   "source": [
    "#### PAYROLL 2018"
   ]
  },
  {
   "cell_type": "code",
   "execution_count": 1107,
   "id": "f687d66e",
   "metadata": {},
   "outputs": [],
   "source": [
    "#filt = sf_data[(sf_data[\"Year\"] == 2018) & (sf_data[\"JobTitle\"]) & (sf_data[\"BasePay\"])]\n",
    "#df_2018 = sf_data.loc[filt][\"BasePay\"]\n",
    "#df_20182 = sf_data.loc[filt][\"JobTitle\"]\n",
    "#df_20182 = df_20182.to_frame()\n",
    "#df_20182.fillna(0)\n",
    "#df_2018 = df_2018.to_frame()\n",
    "#df_2018.fillna(0)\n",
    "#df_2018\n",
    "\n",
    "#pay_2018 = sf_data[sf_data['Year']==2018][['JobTitle','BasePay']]\n",
    "#pay_2018\n",
    "#pay_2018 = pay_2018.groupby([\"JobTitle\"])[\"BasePay\"].mean()\n",
    "#pay_2018 = pay_2018.to_frame()\n",
    "#pay_2018.columns = [\"Base Pay MEAN\"]\n",
    "#pay_2018"
   ]
  },
  {
   "cell_type": "code",
   "execution_count": 1288,
   "id": "e79aeeab",
   "metadata": {},
   "outputs": [],
   "source": [
    "#filt = sf_data[(sf_data[\"Year\"] == 2018) & (sf_data[\"JobTitle\"]) & (sf_data[\"BasePay\"])]\n",
    "#filt.drop([\"OvertimePay\", \"OtherPay\", \"Benefits\", \"TotalPay\", \"TotalPayBenefits\", \"Year\"], axis = 1)\n",
    "#filt = filt.groupby([\"JobTitle\"])[\"BasePay\"].mean() ### acá cambiar por .loc\n",
    "#filt = filt.to_frame()\n",
    "#filt\n"
   ]
  },
  {
   "cell_type": "code",
   "execution_count": 1298,
   "id": "b60a48ab",
   "metadata": {},
   "outputs": [
    {
     "data": {
      "text/html": [
       "<div>\n",
       "<style scoped>\n",
       "    .dataframe tbody tr th:only-of-type {\n",
       "        vertical-align: middle;\n",
       "    }\n",
       "\n",
       "    .dataframe tbody tr th {\n",
       "        vertical-align: top;\n",
       "    }\n",
       "\n",
       "    .dataframe thead th {\n",
       "        text-align: right;\n",
       "    }\n",
       "</style>\n",
       "<table border=\"1\" class=\"dataframe\">\n",
       "  <thead>\n",
       "    <tr style=\"text-align: right;\">\n",
       "      <th></th>\n",
       "      <th>JobTitle</th>\n",
       "      <th>BasePay</th>\n",
       "    </tr>\n",
       "  </thead>\n",
       "  <tbody>\n",
       "    <tr>\n",
       "      <th>0</th>\n",
       "      <td>ACPO,JuvP, Juv Prob (SFERS)</td>\n",
       "      <td>189352.140000</td>\n",
       "    </tr>\n",
       "    <tr>\n",
       "      <th>1</th>\n",
       "      <td>ASR Senior Office Specialist</td>\n",
       "      <td>65777.246538</td>\n",
       "    </tr>\n",
       "    <tr>\n",
       "      <th>2</th>\n",
       "      <td>ASR-Office Assistant</td>\n",
       "      <td>45140.480952</td>\n",
       "    </tr>\n",
       "    <tr>\n",
       "      <th>3</th>\n",
       "      <td>Account Clerk</td>\n",
       "      <td>52416.667755</td>\n",
       "    </tr>\n",
       "    <tr>\n",
       "      <th>4</th>\n",
       "      <td>Accountant I</td>\n",
       "      <td>67771.010000</td>\n",
       "    </tr>\n",
       "    <tr>\n",
       "      <th>5</th>\n",
       "      <td>Accountant II</td>\n",
       "      <td>74959.007115</td>\n",
       "    </tr>\n",
       "    <tr>\n",
       "      <th>6</th>\n",
       "      <td>Accountant III</td>\n",
       "      <td>89719.272158</td>\n",
       "    </tr>\n",
       "    <tr>\n",
       "      <th>7</th>\n",
       "      <td>Accountant IV</td>\n",
       "      <td>117960.278732</td>\n",
       "    </tr>\n",
       "    <tr>\n",
       "      <th>8</th>\n",
       "      <td>Accountant Intern</td>\n",
       "      <td>41386.829524</td>\n",
       "    </tr>\n",
       "    <tr>\n",
       "      <th>9</th>\n",
       "      <td>Acupuncturist</td>\n",
       "      <td>85676.000000</td>\n",
       "    </tr>\n",
       "  </tbody>\n",
       "</table>\n",
       "</div>"
      ],
      "text/plain": [
       "                       JobTitle        BasePay\n",
       "0   ACPO,JuvP, Juv Prob (SFERS)  189352.140000\n",
       "1  ASR Senior Office Specialist   65777.246538\n",
       "2          ASR-Office Assistant   45140.480952\n",
       "3                 Account Clerk   52416.667755\n",
       "4                  Accountant I   67771.010000\n",
       "5                 Accountant II   74959.007115\n",
       "6                Accountant III   89719.272158\n",
       "7                 Accountant IV  117960.278732\n",
       "8             Accountant Intern   41386.829524\n",
       "9                 Acupuncturist   85676.000000"
      ]
     },
     "execution_count": 1298,
     "metadata": {},
     "output_type": "execute_result"
    }
   ],
   "source": [
    "pay_2018 = sf_data[(sf_data[\"Year\"] == 2018) & (sf_data[\"JobTitle\"]) & (sf_data[\"BasePay\"])]\n",
    "pay_2018.drop([\"OvertimePay\", \"OtherPay\", \"Benefits\", \"TotalPay\", \"TotalPayBenefits\", \"Year\"], axis = 1)\n",
    "#filt = filt.groupby([\"JobTitle\"])[\"BasePay\"].mean()\n",
    "pay_2018 = pay_2018.groupby(\"JobTitle\", as_index=False)[\"BasePay\"].mean()[[\"JobTitle\", \"BasePay\"]]\n",
    "pay_2018 = pay_2018.head(10)\n",
    "pay_2018"
   ]
  },
  {
   "cell_type": "code",
   "execution_count": 1323,
   "id": "e0f4ed31",
   "metadata": {},
   "outputs": [
    {
     "data": {
      "text/plain": [
       "(array([0, 1, 2, 3, 4, 5, 6, 7, 8, 9]),\n",
       " [Text(0, 0, 'ACPO,JuvP, Juv Prob (SFERS)'),\n",
       "  Text(1, 0, 'ASR Senior Office Specialist'),\n",
       "  Text(2, 0, 'ASR-Office Assistant'),\n",
       "  Text(3, 0, 'Account Clerk'),\n",
       "  Text(4, 0, 'Accountant I'),\n",
       "  Text(5, 0, 'Accountant II'),\n",
       "  Text(6, 0, 'Accountant III'),\n",
       "  Text(7, 0, 'Accountant IV'),\n",
       "  Text(8, 0, 'Accountant Intern'),\n",
       "  Text(9, 0, 'Acupuncturist')])"
      ]
     },
     "execution_count": 1323,
     "metadata": {},
     "output_type": "execute_result"
    },
    {
     "data": {
      "image/png": "[encoded data removed]",
      "text/plain": [
       "<Figure size 432x288 with 1 Axes>"
      ]
     },
     "metadata": {
      "needs_background": "light"
     },
     "output_type": "display_data"
    }
   ],
   "source": [
    "sns.barplot(data=pay_2018, x = \"JobTitle\", y = \"BasePay\").set(title=\"Mean of Base Pay for each Job Title\")\n",
    "plt.xticks(rotation=90) # Agregar detalles de gráfico"
   ]
  },
  {
   "cell_type": "code",
   "execution_count": null,
   "id": "c3c54cc5",
   "metadata": {},
   "outputs": [],
   "source": []
  },
  {
   "cell_type": "code",
   "execution_count": null,
   "id": "ac306b47",
   "metadata": {},
   "outputs": [],
   "source": []
  },
  {
   "cell_type": "code",
   "execution_count": null,
   "id": "f7a54b25",
   "metadata": {},
   "outputs": [],
   "source": []
  },
  {
   "cell_type": "markdown",
   "id": "d6eedf13",
   "metadata": {},
   "source": [
    "# COMPARACIÓN DE TODOS LOS PAY MEAN"
   ]
  },
  {
   "cell_type": "code",
   "execution_count": null,
   "id": "c30f09bc",
   "metadata": {},
   "outputs": [],
   "source": []
  },
  {
   "cell_type": "code",
   "execution_count": 1330,
   "id": "f4dc177e",
   "metadata": {
    "scrolled": false
   },
   "outputs": [],
   "source": [
    "#data_pay = pd.concat([pay_2015, pay_2016, pay_2017, pay_2018], axis = 1)\n",
    "#data_pay.columns = [\"2015\", \"2016\", \"2017\", \"2018\"]\n",
    "#data_pay.fillna(0)"
   ]
  },
  {
   "cell_type": "code",
   "execution_count": null,
   "id": "df7a6732",
   "metadata": {},
   "outputs": [],
   "source": []
  },
  {
   "cell_type": "code",
   "execution_count": null,
   "id": "01cd87cf",
   "metadata": {},
   "outputs": [],
   "source": []
  },
  {
   "cell_type": "markdown",
   "id": "9a0c77ba",
   "metadata": {},
   "source": [
    "# ANÁLISIS ESTADÍSTICO DE 2018 - VARIABLES JOBS and PAY"
   ]
  },
  {
   "cell_type": "code",
   "execution_count": null,
   "id": "3d584ebc",
   "metadata": {},
   "outputs": [],
   "source": []
  },
  {
   "cell_type": "code",
   "execution_count": null,
   "id": "cbfd8b01",
   "metadata": {},
   "outputs": [],
   "source": []
  },
  {
   "cell_type": "code",
   "execution_count": null,
   "id": "423b8420",
   "metadata": {},
   "outputs": [],
   "source": []
  },
  {
   "cell_type": "code",
   "execution_count": null,
   "id": "549eac94",
   "metadata": {},
   "outputs": [],
   "source": []
  },
  {
   "cell_type": "markdown",
   "id": "ea66f2dc",
   "metadata": {},
   "source": [
    "# Todo el dataset VER PARA QUÉ SIRVE TODO ESTO"
   ]
  },
  {
   "cell_type": "code",
   "execution_count": 664,
   "id": "cf902ae0",
   "metadata": {},
   "outputs": [],
   "source": [
    "job_group = sf_data.groupby([\"JobTitle\"]) # muestra los datos de todo el data set"
   ]
  },
  {
   "cell_type": "code",
   "execution_count": 1329,
   "id": "5dcd8b8f",
   "metadata": {},
   "outputs": [
    {
     "data": {
      "text/html": [
       "<div>\n",
       "<style scoped>\n",
       "    .dataframe tbody tr th:only-of-type {\n",
       "        vertical-align: middle;\n",
       "    }\n",
       "\n",
       "    .dataframe tbody tr th {\n",
       "        vertical-align: top;\n",
       "    }\n",
       "\n",
       "    .dataframe thead th {\n",
       "        text-align: right;\n",
       "    }\n",
       "</style>\n",
       "<table border=\"1\" class=\"dataframe\">\n",
       "  <thead>\n",
       "    <tr style=\"text-align: right;\">\n",
       "      <th></th>\n",
       "      <th>mean</th>\n",
       "      <th>median</th>\n",
       "      <th>count</th>\n",
       "    </tr>\n",
       "    <tr>\n",
       "      <th>JobTitle</th>\n",
       "      <th></th>\n",
       "      <th></th>\n",
       "      <th></th>\n",
       "    </tr>\n",
       "  </thead>\n",
       "  <tbody>\n",
       "    <tr>\n",
       "      <th>ACCOUNT CLERK</th>\n",
       "      <td>43300.806506</td>\n",
       "      <td>49777.780</td>\n",
       "      <td>83</td>\n",
       "    </tr>\n",
       "    <tr>\n",
       "      <th>ACCOUNTANT</th>\n",
       "      <td>46643.172000</td>\n",
       "      <td>60076.240</td>\n",
       "      <td>5</td>\n",
       "    </tr>\n",
       "    <tr>\n",
       "      <th>ACCOUNTANT INTERN</th>\n",
       "      <td>28732.663958</td>\n",
       "      <td>16806.755</td>\n",
       "      <td>48</td>\n",
       "    </tr>\n",
       "    <tr>\n",
       "      <th>ACPO,JuvP, Juv Prob (SFERS)</th>\n",
       "      <td>150725.422000</td>\n",
       "      <td>168094.740</td>\n",
       "      <td>5</td>\n",
       "    </tr>\n",
       "    <tr>\n",
       "      <th>ACUPUNCTURIST</th>\n",
       "      <td>66374.400000</td>\n",
       "      <td>66374.400</td>\n",
       "      <td>1</td>\n",
       "    </tr>\n",
       "    <tr>\n",
       "      <th>...</th>\n",
       "      <td>...</td>\n",
       "      <td>...</td>\n",
       "      <td>...</td>\n",
       "    </tr>\n",
       "    <tr>\n",
       "      <th>X-RAY LABORATORY AIDE</th>\n",
       "      <td>47664.773077</td>\n",
       "      <td>54066.080</td>\n",
       "      <td>26</td>\n",
       "    </tr>\n",
       "    <tr>\n",
       "      <th>X-Ray Laboratory Aide</th>\n",
       "      <td>44744.065146</td>\n",
       "      <td>55246.500</td>\n",
       "      <td>103</td>\n",
       "    </tr>\n",
       "    <tr>\n",
       "      <th>YOUTH COMMISSION ADVISOR, BOARD OF SUPERVISORS</th>\n",
       "      <td>52609.910000</td>\n",
       "      <td>52609.910</td>\n",
       "      <td>1</td>\n",
       "    </tr>\n",
       "    <tr>\n",
       "      <th>Youth Comm Advisor</th>\n",
       "      <td>48056.778889</td>\n",
       "      <td>57544.730</td>\n",
       "      <td>9</td>\n",
       "    </tr>\n",
       "    <tr>\n",
       "      <th>ZOO CURATOR</th>\n",
       "      <td>43148.000000</td>\n",
       "      <td>43148.000</td>\n",
       "      <td>1</td>\n",
       "    </tr>\n",
       "  </tbody>\n",
       "</table>\n",
       "<p>2286 rows × 3 columns</p>\n",
       "</div>"
      ],
      "text/plain": [
       "                                                         mean      median  \\\n",
       "JobTitle                                                                    \n",
       "ACCOUNT CLERK                                    43300.806506   49777.780   \n",
       "ACCOUNTANT                                       46643.172000   60076.240   \n",
       "ACCOUNTANT INTERN                                28732.663958   16806.755   \n",
       "ACPO,JuvP, Juv Prob (SFERS)                     150725.422000  168094.740   \n",
       "ACUPUNCTURIST                                    66374.400000   66374.400   \n",
       "...                                                       ...         ...   \n",
       "X-RAY LABORATORY AIDE                            47664.773077   54066.080   \n",
       "X-Ray Laboratory Aide                            44744.065146   55246.500   \n",
       "YOUTH COMMISSION ADVISOR, BOARD OF SUPERVISORS   52609.910000   52609.910   \n",
       "Youth Comm Advisor                               48056.778889   57544.730   \n",
       "ZOO CURATOR                                      43148.000000   43148.000   \n",
       "\n",
       "                                                count  \n",
       "JobTitle                                               \n",
       "ACCOUNT CLERK                                      83  \n",
       "ACCOUNTANT                                          5  \n",
       "ACCOUNTANT INTERN                                  48  \n",
       "ACPO,JuvP, Juv Prob (SFERS)                         5  \n",
       "ACUPUNCTURIST                                       1  \n",
       "...                                               ...  \n",
       "X-RAY LABORATORY AIDE                              26  \n",
       "X-Ray Laboratory Aide                             103  \n",
       "YOUTH COMMISSION ADVISOR, BOARD OF SUPERVISORS      1  \n",
       "Youth Comm Advisor                                  9  \n",
       "ZOO CURATOR                                         1  \n",
       "\n",
       "[2286 rows x 3 columns]"
      ]
     },
     "execution_count": 1329,
     "metadata": {},
     "output_type": "execute_result"
    }
   ],
   "source": [
    "job_group[\"BasePay\"].agg([\"mean\", \"median\", \"count\"], ascending=False)"
   ]
  },
  {
   "cell_type": "code",
   "execution_count": null,
   "id": "cac37d32",
   "metadata": {},
   "outputs": [],
   "source": []
  }
 ],
 "metadata": {
  "kernelspec": {
   "display_name": "Python 3",
   "language": "python",
   "name": "python3"
  },
  "language_info": {
   "codemirror_mode": {
    "name": "ipython",
    "version": 3
   },
   "file_extension": ".py",
   "mimetype": "text/x-python",
   "name": "python",
   "nbconvert_exporter": "python",
   "pygments_lexer": "ipython3",
   "version": "3.8.8"
  }
 },
 "nbformat": 4,
 "nbformat_minor": 5
}
